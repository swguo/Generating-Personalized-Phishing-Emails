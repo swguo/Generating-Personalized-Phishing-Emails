{
  "cells": [
    {
      "cell_type": "markdown",
      "metadata": {
        "id": "view-in-github",
        "colab_type": "text"
      },
      "source": [
        "<a href=\"https://colab.research.google.com/github/swguo/Generating-Personalized-Phishing-Emails/blob/main/GPT2_Generation.ipynb\" target=\"_parent\"><img src=\"https://colab.research.google.com/assets/colab-badge.svg\" alt=\"Open In Colab\"/></a>"
      ]
    },
    {
      "cell_type": "code",
      "execution_count": 6,
      "metadata": {
        "colab": {
          "base_uri": "https://localhost:8080/"
        },
        "id": "ZRf9FEQgMbuT",
        "outputId": "8ac7d9dc-3691-4c69-b165-ab21c194cca2"
      },
      "outputs": [
        {
          "output_type": "stream",
          "name": "stdout",
          "text": [
            "CPU times: user 40.5 ms, sys: 13.2 ms, total: 53.8 ms\n",
            "Wall time: 5.13 s\n"
          ]
        }
      ],
      "source": [
        "%%time\n",
        "%%capture\n",
        "!pip install transformers==4.5.0"
      ]
    },
    {
      "cell_type": "code",
      "execution_count": 7,
      "metadata": {
        "id": "Z6a4fA_zMeX4",
        "colab": {
          "base_uri": "https://localhost:8080/"
        },
        "outputId": "966de451-accc-44a9-8538-912c7a900734"
      },
      "outputs": [
        {
          "output_type": "stream",
          "name": "stdout",
          "text": [
            "Wed Mar 16 08:35:02 2022       \n",
            "+-----------------------------------------------------------------------------+\n",
            "| NVIDIA-SMI 460.32.03    Driver Version: 460.32.03    CUDA Version: 11.2     |\n",
            "|-------------------------------+----------------------+----------------------+\n",
            "| GPU  Name        Persistence-M| Bus-Id        Disp.A | Volatile Uncorr. ECC |\n",
            "| Fan  Temp  Perf  Pwr:Usage/Cap|         Memory-Usage | GPU-Util  Compute M. |\n",
            "|                               |                      |               MIG M. |\n",
            "|===============================+======================+======================|\n",
            "|   0  Tesla V100-SXM2...  Off  | 00000000:00:04.0 Off |                    0 |\n",
            "| N/A   33C    P0    23W / 300W |      0MiB / 16160MiB |      0%      Default |\n",
            "|                               |                      |                  N/A |\n",
            "+-------------------------------+----------------------+----------------------+\n",
            "                                                                               \n",
            "+-----------------------------------------------------------------------------+\n",
            "| Processes:                                                                  |\n",
            "|  GPU   GI   CI        PID   Type   Process name                  GPU Memory |\n",
            "|        ID   ID                                                   Usage      |\n",
            "|=============================================================================|\n",
            "|  No running processes found                                                 |\n",
            "+-----------------------------------------------------------------------------+\n"
          ]
        }
      ],
      "source": [
        "!nvidia-smi"
      ]
    },
    {
      "cell_type": "code",
      "execution_count": 8,
      "metadata": {
        "id": "7BY1Wum1Mg78",
        "colab": {
          "base_uri": "https://localhost:8080/"
        },
        "outputId": "f1feddbc-7192-4620-b0d3-17bf9f981deb"
      },
      "outputs": [
        {
          "output_type": "stream",
          "name": "stdout",
          "text": [
            "PyTorch version: 1.10.0+cu111\n"
          ]
        }
      ],
      "source": [
        "import os\n",
        "import io\n",
        "import requests\n",
        "import numpy as np\n",
        "import pandas as pd\n",
        "import re\n",
        "import zipfile\n",
        "import random\n",
        "import time\n",
        "import csv\n",
        "import datetime\n",
        "from itertools import compress\n",
        "from collections import Counter, defaultdict\n",
        "from sklearn.feature_extraction.text import TfidfVectorizer, CountVectorizer\n",
        "from sklearn.metrics.pairwise import cosine_similarity\n",
        "\n",
        "from transformers import AutoTokenizer, AutoConfig, AutoModelForPreTraining, \\\n",
        "                         AdamW, get_linear_schedule_with_warmup, \\\n",
        "                         TrainingArguments, BeamScorer, \\\n",
        "                         Trainer, TrainingArguments\n",
        "\n",
        "import torch\n",
        "from torch.utils.data import Dataset, random_split, DataLoader, \\\n",
        "                             RandomSampler, SequentialSampler\n",
        "import pprint\n",
        "pp = pprint.PrettyPrinter(indent=4)\n",
        "from IPython.display import clear_output\n",
        "\n",
        "device = torch.device('cuda') if torch.cuda.is_available() else torch.device('cpu')\n",
        "\n",
        "print(f\"PyTorch version: {torch.__version__}\")"
      ]
    },
    {
      "cell_type": "markdown",
      "metadata": {
        "id": "FxuGs9jPMrNv"
      },
      "source": [
        "# Configurations"
      ]
    },
    {
      "cell_type": "code",
      "execution_count": 9,
      "metadata": {
        "id": "3u1DPWpiMqnd"
      },
      "outputs": [],
      "source": [
        "DEBUG           = False\n",
        "\n",
        "INPUT_DIR       = 'articles'\n",
        "\n",
        "USE_APEX        = True\n",
        "APEX_OPT_LEVEL  = 'O1'\n",
        "\n",
        "MODEL           = 'gpt2-medium' #{gpt2, gpt2-medium, gpt2-large, gpt2-xl}\n",
        "\n",
        "UNFREEZE_LAST_N = 6 #The last N layers to unfreeze for training\n",
        "\n",
        "SPECIAL_TOKENS  = { \"bos_token\": \"<|BOS|>\",\n",
        "                    \"eos_token\": \"<|EOS|>\",\n",
        "                    \"unk_token\": \"<|UNK|>\",                    \n",
        "                    \"pad_token\": \"<|PAD|>\",\n",
        "                    \"sep_token\": \"<|SEP|>\"}\n",
        "                    \n",
        "MAXLEN          = 128\n",
        "\n",
        "TRAIN_SIZE      = 0.8\n",
        "\n",
        "if USE_APEX:\n",
        "    TRAIN_BATCHSIZE = 4\n",
        "    BATCH_UPDATE    = 16\n",
        "else:\n",
        "    TRAIN_BATCHSIZE = 2\n",
        "    BATCH_UPDATE    = 32\n",
        "\n",
        "EPOCHS          = 4\n",
        "LR              = 5e-4\n",
        "EPS             = 1e-8\n",
        "WARMUP_STEPS    = 1e2\n",
        "\n",
        "SEED            = 2020"
      ]
    },
    {
      "cell_type": "code",
      "execution_count": 10,
      "metadata": {
        "id": "_ARpqRsoMvaW"
      },
      "outputs": [],
      "source": [
        "def seed_everything(seed):\n",
        "    random.seed(seed)\n",
        "    os.environ['PYTHONHASHSEED'] = str(seed)\n",
        "    np.random.seed(seed)\n",
        "    torch.manual_seed(seed)\n",
        "    torch.cuda.manual_seed(seed)\n",
        "    torch.backends.cudnn.deterministic = True\n",
        "    torch.backends.cudnn.benchmark = True\n",
        "\n",
        "seed_everything(SEED)"
      ]
    },
    {
      "cell_type": "markdown",
      "metadata": {
        "id": "VZuxiDxmqvI_"
      },
      "source": [
        "# Loading Tokenizer, Config and Model"
      ]
    },
    {
      "cell_type": "code",
      "execution_count": 11,
      "metadata": {
        "id": "vPSV7fCEquZn"
      },
      "outputs": [],
      "source": [
        "def get_tokenier(special_tokens=None):\n",
        "    tokenizer = AutoTokenizer.from_pretrained(MODEL) #GPT2Tokenizer\n",
        "\n",
        "    if special_tokens:\n",
        "        tokenizer.add_special_tokens(special_tokens)\n",
        "        print(len(tokenizer))\n",
        "        print(\"Special tokens added\")\n",
        "    return tokenizer\n",
        "\n",
        "def get_model(tokenizer, special_tokens=None, load_model_path=None):\n",
        "\n",
        "    #GPT2LMHeadModel\n",
        "    if special_tokens:\n",
        "        config = AutoConfig.from_pretrained(MODEL, \n",
        "                          bos_token_id=tokenizer.bos_token_id,\n",
        "                          eos_token_id=tokenizer.eos_token_id,\n",
        "                          sep_token_id=tokenizer.sep_token_id,\n",
        "                          pad_token_id=tokenizer.pad_token_id,\n",
        "                          output_hidden_states=False)\n",
        "    else: \n",
        "        config = AutoConfig.from_pretrained(MODEL,                                     \n",
        "                          pad_token_id=tokenizer.eos_token_id,\n",
        "                          output_hidden_states=False)    \n",
        "\n",
        "    #----------------------------------------------------------------#\n",
        "    model = AutoModelForPreTraining.from_pretrained(MODEL, config=config)\n",
        "\n",
        "    if special_tokens:\n",
        "        #Special tokens added, model needs to be resized accordingly\n",
        "        model.resize_token_embeddings(len(tokenizer))\n",
        "\n",
        "    if load_model_path:\n",
        "        model.load_state_dict(torch.load(load_model_path))\n",
        "\n",
        "    model.cuda()\n",
        "    return model"
      ]
    },
    {
      "cell_type": "code",
      "execution_count": 12,
      "metadata": {
        "id": "yKLw1xVq7qyQ"
      },
      "outputs": [],
      "source": [
        "def join_keywords(keywords, randomize=True):\n",
        "        N = len(keywords)\n",
        "\n",
        "        #random sampling and shuffle\n",
        "        if randomize: \n",
        "            M = random.choice(range(N+1))\n",
        "            keywords = keywords[:M]\n",
        "            random.shuffle(keywords)\n",
        "\n",
        "        return ','.join(keywords)"
      ]
    },
    {
      "cell_type": "markdown",
      "metadata": {
        "id": "VK8gR7cQMzR-"
      },
      "source": [
        "# Download Spear Email model - GPT2\n"
      ]
    },
    {
      "cell_type": "code",
      "source": [
        "!pip install --upgrade --no-cache-dir gdown"
      ],
      "metadata": {
        "colab": {
          "base_uri": "https://localhost:8080/"
        },
        "id": "0bLNqOG_P7lN",
        "outputId": "6639381e-7230-4d1d-fc8e-5b7b0d0302e1"
      },
      "execution_count": 3,
      "outputs": [
        {
          "output_type": "stream",
          "name": "stdout",
          "text": [
            "Requirement already satisfied: gdown in /usr/local/lib/python3.7/dist-packages (4.2.2)\n",
            "Collecting gdown\n",
            "  Downloading gdown-4.4.0.tar.gz (14 kB)\n",
            "  Installing build dependencies ... \u001b[?25l\u001b[?25hdone\n",
            "  Getting requirements to build wheel ... \u001b[?25l\u001b[?25hdone\n",
            "    Preparing wheel metadata ... \u001b[?25l\u001b[?25hdone\n",
            "Requirement already satisfied: six in /usr/local/lib/python3.7/dist-packages (from gdown) (1.15.0)\n",
            "Requirement already satisfied: requests[socks] in /usr/local/lib/python3.7/dist-packages (from gdown) (2.23.0)\n",
            "Requirement already satisfied: filelock in /usr/local/lib/python3.7/dist-packages (from gdown) (3.6.0)\n",
            "Requirement already satisfied: beautifulsoup4 in /usr/local/lib/python3.7/dist-packages (from gdown) (4.6.3)\n",
            "Requirement already satisfied: tqdm in /usr/local/lib/python3.7/dist-packages (from gdown) (4.63.0)\n",
            "Requirement already satisfied: chardet<4,>=3.0.2 in /usr/local/lib/python3.7/dist-packages (from requests[socks]->gdown) (3.0.4)\n",
            "Requirement already satisfied: idna<3,>=2.5 in /usr/local/lib/python3.7/dist-packages (from requests[socks]->gdown) (2.10)\n",
            "Requirement already satisfied: certifi>=2017.4.17 in /usr/local/lib/python3.7/dist-packages (from requests[socks]->gdown) (2021.10.8)\n",
            "Requirement already satisfied: urllib3!=1.25.0,!=1.25.1,<1.26,>=1.21.1 in /usr/local/lib/python3.7/dist-packages (from requests[socks]->gdown) (1.24.3)\n",
            "Requirement already satisfied: PySocks!=1.5.7,>=1.5.6 in /usr/local/lib/python3.7/dist-packages (from requests[socks]->gdown) (1.7.1)\n",
            "Building wheels for collected packages: gdown\n",
            "  Building wheel for gdown (PEP 517) ... \u001b[?25l\u001b[?25hdone\n",
            "  Created wheel for gdown: filename=gdown-4.4.0-py3-none-any.whl size=14774 sha256=c6cd10f6f5f64eafbd5a87eb355cf1f651e2a8718ea8c419204be2de55131b82\n",
            "  Stored in directory: /tmp/pip-ephem-wheel-cache-7m_ijmms/wheels/fb/c3/0e/c4d8ff8bfcb0461afff199471449f642179b74968c15b7a69c\n",
            "Successfully built gdown\n",
            "Installing collected packages: gdown\n",
            "  Attempting uninstall: gdown\n",
            "    Found existing installation: gdown 4.2.2\n",
            "    Uninstalling gdown-4.2.2:\n",
            "      Successfully uninstalled gdown-4.2.2\n",
            "Successfully installed gdown-4.4.0\n"
          ]
        }
      ]
    },
    {
      "cell_type": "code",
      "execution_count": 4,
      "metadata": {
        "id": "26pAeMDaMyme",
        "colab": {
          "base_uri": "https://localhost:8080/"
        },
        "outputId": "32a9ce54-573d-4722-9e5e-428797bb65e1"
      },
      "outputs": [
        {
          "output_type": "stream",
          "name": "stdout",
          "text": [
            "/usr/local/lib/python3.7/dist-packages/gdown/cli.py:131: FutureWarning: Option `--id` was deprecated in version 4.3.1 and will be removed in 5.0. You don't need to pass it anymore to use a file ID.\n",
            "  category=FutureWarning,\n",
            "Downloading...\n",
            "From: https://drive.google.com/uc?id=1dPhbShbTwBB_3cdsV4zp0gLFD0mnREIO\n",
            "To: /content/pytorch_model.bin\n",
            "100% 1.44G/1.44G [00:06<00:00, 230MB/s]\n"
          ]
        }
      ],
      "source": [
        "!gdown --id 1dPhbShbTwBB_3cdsV4zp0gLFD0mnREIO"
      ]
    },
    {
      "cell_type": "code",
      "execution_count": 13,
      "metadata": {
        "id": "x37IhPq6KrBp",
        "colab": {
          "base_uri": "https://localhost:8080/",
          "height": 212,
          "referenced_widgets": [
            "aec42c58c48442d2bfe5f17f30423c37",
            "a135a3c0d64d403eb165b3213c5b68f5",
            "ddd56023a5ec47768a252cb4be52747e",
            "54dd4fca97184f268a8089d6a6177d9a",
            "7b14b0ac189c4ad280535456b42082d0",
            "e31d888498cf44c7bab9471b59e8509e",
            "d914d2607298480782c87b0d2a18c55a",
            "3ba7537479eb42cb9663dc7b3b7245bd",
            "0be2e85987084b6fbd4e0dbd431ff46e",
            "83187d24edd944349e453922d750070c",
            "566d59dd2234426181149b79d5c91492",
            "e674176472864d7bab72d5bcd9deee75",
            "1fda99ab9d0c43c2a71db38274943b5e",
            "d67f50502a1d45fd81fa30666462d1d6",
            "28a11a44db0d4bb0977b9da1b0a18104",
            "b4961a03cbde428f9bbaac9188edcb4d",
            "e984f469aa584dd4ba5b753e41e1c90c",
            "24e5acf9bdc64b4baa2364432fc07392",
            "91f02bab391e44b485d40bf012562814",
            "2ab02cc29c494b3dbb4f03ce6027d722",
            "20533918d5a44aa4b83ae13848b47239",
            "3ae1344acc8c44129af26ee829d17904",
            "832381ea318b4e71bc6c61059c0a1d44",
            "1571afeb6069421b924dca94c6b95e73",
            "5aa1e154155a49c6a7cf07ebcea8c190",
            "8655b53041d94233a045d5f46f2e79ff",
            "03b0f0035d854f17966d7a06c858f48b",
            "0b47a8d041e0492ba55f711473ff0bb8",
            "e2affa85b7944f5ba88e94fd97609546",
            "aa66817cd24d419db658a530d9b2d9bc",
            "5b8e19b0f5ed4c9597ab939b0c0be24b",
            "13b9ac344fb2451b9049016463864129",
            "c32d34eb4e364a97a87899ab868ed51a",
            "0939d3120f67463c930d707580f735f9",
            "efdc3e42daa145c9acd369a973946e83",
            "1e7f4760d3e54536949458c22ee023f3",
            "9d99982783aa425dbe33bf6ff6f59273",
            "433bfbbfcda84546a8210c8106ab57be",
            "b77e8e51ebda48b289cdf1e4b4cf81e7",
            "637f15d19dc74f2fa0813f7d467e8fd2",
            "914a091c484a4e6ca0eb2eac8827acd3",
            "2c3c073cd3fe45d6a270bf24b2159d1d",
            "fd3f48f6ecc24e4cbb4f5e0b7c5cf22d",
            "906e564c17e04f6d96973342e0539a76",
            "163d70a6275e459e918788549a8e2ee7",
            "9ca0e6dec14140619d5a016fca884c48",
            "cb85648ceb104c80999155ef5198e200",
            "b0cfd01939fd4cb182a63c91a10db6f1",
            "320603d6eef34ccc8de1c58c6497e468",
            "24a9e4ce531e4905bc74c4920edf7469",
            "deb08a8c8b434480aa03f73cf2ff0d48",
            "0551d153ec544cff84dc981081d9e990",
            "6bef901d7b814409a0793727ac2c7a05",
            "bf6ddbf80dce48a08a3fcac8767acc43",
            "075e668c0ba84366b6c092991c548887"
          ],
          "resources": {
            "http://localhost:8080/null": {
              "data": "CjwhRE9DVFlQRSBodG1sPgo8aHRtbCBsYW5nPWVuPgogIDxtZXRhIGNoYXJzZXQ9dXRmLTg+CiAgPG1ldGEgbmFtZT12aWV3cG9ydCBjb250ZW50PSJpbml0aWFsLXNjYWxlPTEsIG1pbmltdW0tc2NhbGU9MSwgd2lkdGg9ZGV2aWNlLXdpZHRoIj4KICA8dGl0bGU+RXJyb3IgNDA0IChOb3QgRm91bmQpISExPC90aXRsZT4KICA8c3R5bGU+CiAgICAqe21hcmdpbjowO3BhZGRpbmc6MH1odG1sLGNvZGV7Zm9udDoxNXB4LzIycHggYXJpYWwsc2Fucy1zZXJpZn1odG1se2JhY2tncm91bmQ6I2ZmZjtjb2xvcjojMjIyO3BhZGRpbmc6MTVweH1ib2R5e21hcmdpbjo3JSBhdXRvIDA7bWF4LXdpZHRoOjM5MHB4O21pbi1oZWlnaHQ6MTgwcHg7cGFkZGluZzozMHB4IDAgMTVweH0qID4gYm9keXtiYWNrZ3JvdW5kOnVybCgvL3d3dy5nb29nbGUuY29tL2ltYWdlcy9lcnJvcnMvcm9ib3QucG5nKSAxMDAlIDVweCBuby1yZXBlYXQ7cGFkZGluZy1yaWdodDoyMDVweH1we21hcmdpbjoxMXB4IDAgMjJweDtvdmVyZmxvdzpoaWRkZW59aW5ze2NvbG9yOiM3Nzc7dGV4dC1kZWNvcmF0aW9uOm5vbmV9YSBpbWd7Ym9yZGVyOjB9QG1lZGlhIHNjcmVlbiBhbmQgKG1heC13aWR0aDo3NzJweCl7Ym9keXtiYWNrZ3JvdW5kOm5vbmU7bWFyZ2luLXRvcDowO21heC13aWR0aDpub25lO3BhZGRpbmctcmlnaHQ6MH19I2xvZ297YmFja2dyb3VuZDp1cmwoLy93d3cuZ29vZ2xlLmNvbS9pbWFnZXMvbG9nb3MvZXJyb3JwYWdlL2Vycm9yX2xvZ28tMTUweDU0LnBuZykgbm8tcmVwZWF0O21hcmdpbi1sZWZ0Oi01cHh9QG1lZGlhIG9ubHkgc2NyZWVuIGFuZCAobWluLXJlc29sdXRpb246MTkyZHBpKXsjbG9nb3tiYWNrZ3JvdW5kOnVybCgvL3d3dy5nb29nbGUuY29tL2ltYWdlcy9sb2dvcy9lcnJvcnBhZ2UvZXJyb3JfbG9nby0xNTB4NTQtMngucG5nKSBuby1yZXBlYXQgMCUgMCUvMTAwJSAxMDAlOy1tb3otYm9yZGVyLWltYWdlOnVybCgvL3d3dy5nb29nbGUuY29tL2ltYWdlcy9sb2dvcy9lcnJvcnBhZ2UvZXJyb3JfbG9nby0xNTB4NTQtMngucG5nKSAwfX1AbWVkaWEgb25seSBzY3JlZW4gYW5kICgtd2Via2l0LW1pbi1kZXZpY2UtcGl4ZWwtcmF0aW86Mil7I2xvZ297YmFja2dyb3VuZDp1cmwoLy93d3cuZ29vZ2xlLmNvbS9pbWFnZXMvbG9nb3MvZXJyb3JwYWdlL2Vycm9yX2xvZ28tMTUweDU0LTJ4LnBuZykgbm8tcmVwZWF0Oy13ZWJraXQtYmFja2dyb3VuZC1zaXplOjEwMCUgMTAwJX19I2xvZ297ZGlzcGxheTppbmxpbmUtYmxvY2s7aGVpZ2h0OjU0cHg7d2lkdGg6MTUwcHh9CiAgPC9zdHlsZT4KICA8YSBocmVmPS8vd3d3Lmdvb2dsZS5jb20vPjxzcGFuIGlkPWxvZ28gYXJpYS1sYWJlbD1Hb29nbGU+PC9zcGFuPjwvYT4KICA8cD48Yj40MDQuPC9iPiA8aW5zPlRoYXTigJlzIGFuIGVycm9yLjwvaW5zPgogIDxwPiAgPGlucz5UaGF04oCZcyBhbGwgd2Uga25vdy48L2lucz4K",
              "ok": false,
              "headers": [
                [
                  "content-length",
                  "1449"
                ],
                [
                  "content-type",
                  "text/html; charset=utf-8"
                ]
              ],
              "status": 404,
              "status_text": ""
            }
          }
        },
        "outputId": "4547e465-674c-433f-cc2a-9ed411705b5d"
      },
      "outputs": [
        {
          "output_type": "display_data",
          "data": {
            "text/plain": [
              "Downloading:   0%|          | 0.00/718 [00:00<?, ?B/s]"
            ],
            "application/vnd.jupyter.widget-view+json": {
              "version_major": 2,
              "version_minor": 0,
              "model_id": "aec42c58c48442d2bfe5f17f30423c37"
            }
          },
          "metadata": {}
        },
        {
          "output_type": "display_data",
          "data": {
            "text/plain": [
              "Downloading:   0%|          | 0.00/1.04M [00:00<?, ?B/s]"
            ],
            "application/vnd.jupyter.widget-view+json": {
              "version_major": 2,
              "version_minor": 0,
              "model_id": "e674176472864d7bab72d5bcd9deee75"
            }
          },
          "metadata": {}
        },
        {
          "output_type": "display_data",
          "data": {
            "text/plain": [
              "Downloading:   0%|          | 0.00/456k [00:00<?, ?B/s]"
            ],
            "application/vnd.jupyter.widget-view+json": {
              "version_major": 2,
              "version_minor": 0,
              "model_id": "832381ea318b4e71bc6c61059c0a1d44"
            }
          },
          "metadata": {}
        },
        {
          "output_type": "display_data",
          "data": {
            "text/plain": [
              "Downloading:   0%|          | 0.00/1.36M [00:00<?, ?B/s]"
            ],
            "application/vnd.jupyter.widget-view+json": {
              "version_major": 2,
              "version_minor": 0,
              "model_id": "0939d3120f67463c930d707580f735f9"
            }
          },
          "metadata": {}
        },
        {
          "output_type": "stream",
          "name": "stdout",
          "text": [
            "50262\n",
            "Special tokens added\n"
          ]
        },
        {
          "output_type": "display_data",
          "data": {
            "text/plain": [
              "Downloading:   0%|          | 0.00/1.52G [00:00<?, ?B/s]"
            ],
            "application/vnd.jupyter.widget-view+json": {
              "version_major": 2,
              "version_minor": 0,
              "model_id": "163d70a6275e459e918788549a8e2ee7"
            }
          },
          "metadata": {}
        }
      ],
      "source": [
        "tokenizer = get_tokenier(special_tokens=SPECIAL_TOKENS)\n",
        "\n",
        "model = get_model(tokenizer, \n",
        "          special_tokens=SPECIAL_TOKENS,\n",
        "          load_model_path='pytorch_model.bin')"
      ]
    },
    {
      "cell_type": "markdown",
      "metadata": {
        "id": "VervEmdaej7w"
      },
      "source": [
        "# Generation"
      ]
    },
    {
      "cell_type": "markdown",
      "metadata": {
        "id": "fKjge7tP9y0G"
      },
      "source": [
        "## Introduction to input fields\n",
        "\n",
        "Title => Email Subject \n",
        "\n",
        "Type => has two choices\n",
        " * Fraud  : Fraud type\n",
        " * Normal  : BEC type\n",
        "\n",
        "Category => Topic\n",
        " * BUSINESS\n",
        " * MONEY\n",
        "\n",
        "Formats => Body formats \n",
        " * News\n",
        " * Email\n",
        "\n",
        "Keywords => Expected keyowrd (list type)"
      ]
    },
    {
      "cell_type": "markdown",
      "metadata": {
        "id": "6NpbvBZ5ktQb"
      },
      "source": [
        "## Define Function"
      ]
    },
    {
      "cell_type": "code",
      "source": [
        "import re\n",
        "def remove_Symbol(s):\n",
        "    s = re.sub(r'[^\\w]','',s)\n",
        "    return s\n"
      ],
      "metadata": {
        "id": "mfGene5-SdNM"
      },
      "execution_count": 14,
      "outputs": []
    },
    {
      "cell_type": "code",
      "execution_count": 15,
      "metadata": {
        "id": "pdTG2Q-nfaFi"
      },
      "outputs": [],
      "source": [
        "def generation_token(title,text,keywords,types,category,formats):    \n",
        "    \n",
        "    kw = join_keywords(keywords, randomize=False)\n",
        "    prompt = SPECIAL_TOKENS['bos_token'] + types + \\\n",
        "             SPECIAL_TOKENS['sep_token'] + category + \\\n",
        "             SPECIAL_TOKENS['sep_token'] + formats + \\\n",
        "             SPECIAL_TOKENS['sep_token'] + title + \\\n",
        "             SPECIAL_TOKENS['sep_token'] + kw + \\\n",
        "             SPECIAL_TOKENS['sep_token']\n",
        "    \n",
        "    prompt_len = len(types)+len(category)+len(formats)+ len(title) + len(','.join(keywords)) \n",
        "    \n",
        "    generated = tokenizer([prompt],max_length=MAXLEN, return_tensors='pt')['input_ids'].to(device)\n",
        "    \n",
        "\n",
        "    model.eval()\n",
        "\n",
        "    sample_outputs = model.generate(\n",
        "        generated,\n",
        "        do_sample=False, \n",
        "        max_length=MAXLEN, \n",
        "        top_k=1,\n",
        "        top_p=0.75,\n",
        "        num_return_sequences=3\n",
        "    )\n",
        "    \n",
        "    return sample_outputs,len(prompt)"
      ]
    },
    {
      "cell_type": "markdown",
      "source": [
        "## 1. Generation phishing emails for fraud"
      ],
      "metadata": {
        "id": "cShQMiYIU6dV"
      }
    },
    {
      "cell_type": "markdown",
      "source": [
        "## Topic for COIVD19 of Fraud Emails"
      ],
      "metadata": {
        "id": "t8pxFR7jgxcE"
      }
    },
    {
      "cell_type": "code",
      "source": [
        "title = \"please reply to me soon \"\n",
        "#title = \"please complete as soon as possible \"\n",
        "#title = 'I will get back to you in the am '\n",
        "#title = 'We are keenly interested in setting up a new hospital '\n",
        "#title = 'How about was that payment? reply to me soon '\n",
        "#title = \"I will get back to you in the am \"\n",
        "\n",
        "keywords = ['covid19', 'case', 'hospital','CDC']"
      ],
      "metadata": {
        "id": "ad2UAeeig5v1"
      },
      "execution_count": 74,
      "outputs": []
    },
    {
      "cell_type": "code",
      "source": [
        "types = \"Fraud\"\n",
        "category = \"BUSINESS\"\n",
        "formats = \"Email\"\n",
        "kw = join_keywords(keywords, randomize=False)\n",
        "prompt = SPECIAL_TOKENS['bos_token'] + types + \\\n",
        "                SPECIAL_TOKENS['sep_token'] + category + \\\n",
        "                SPECIAL_TOKENS['sep_token'] + formats + \\\n",
        "                SPECIAL_TOKENS['sep_token'] + title + \\\n",
        "                SPECIAL_TOKENS['sep_token'] + kw\n",
        "generated = torch.tensor(tokenizer.encode(prompt)).unsqueeze(0)\n",
        "device = torch.device(\"cuda\")\n",
        "generated = generated.to(device)\n",
        "\n",
        "model.eval();"
      ],
      "metadata": {
        "id": "L5v9p6hugyKq"
      },
      "execution_count": 75,
      "outputs": []
    },
    {
      "cell_type": "code",
      "source": [
        "from termcolor import colored\n",
        "# Top-p (nucleus) text generation (10 samples):\n",
        "sample_outputs = model.generate(generated, \n",
        "                do_sample=True,   \n",
        "                min_length=20, \n",
        "                max_length=200,\n",
        "                top_k=10,                              \n",
        "                top_p=0.5,\n",
        "                repetition_penalty=2.0,\n",
        "                num_return_sequences=3\n",
        "                )\n",
        "\n",
        "predt_email = []\n",
        "prompt = len(types)+len(category)+len(formats)+ len(title) + len(kw) \n",
        "for i, sample_output in enumerate(sample_outputs):\n",
        "  predit_text = tokenizer.decode(sample_output, skip_special_tokens=True)[prompt:]\n",
        "  index = predit_text.find('.')\n",
        "  result = \" \".join(colored(t,'white','on_red') if remove_Symbol(t) in keywords else remove_Symbol(t) for t in predit_text[index+1:].lower().split())\n",
        "  print('Phishing Email : {}'.format(i+1))\n",
        "  print(\"=\"*100)\n",
        "  for j,t in enumerate(result.split(' ')):\n",
        "    print(t+' ',end='')\n",
        "    if j%20==0 and j!=0:\n",
        "      print('\\n')\n",
        "  print('\\n')"
      ],
      "metadata": {
        "colab": {
          "base_uri": "https://localhost:8080/"
        },
        "id": "h6ep4VZ4ke6k",
        "outputId": "c8f8627d-c11d-4a1f-9a22-8ae4c2154980"
      },
      "execution_count": 94,
      "outputs": [
        {
          "output_type": "stream",
          "name": "stdout",
          "text": [
            "Phishing Email : 1\n",
            "====================================================================================================\n",
            "the diagnosis was made in an urgent and very confidential manner by drdrdavidgomezcavastisymodianadoctor please replyto me soonmy name is dr david \n",
            "\n",
            "gombaa native of cotonounigeriamy parents were murderedfor political reasons duringthe regimeof mr david sekoto who ruled from 1983 until he \n",
            "\n",
            "died on this 21st april 2000 after beingdiagnosedand then transferred into detention at our countrysembassy herein nigeria for medical treatment \n",
            "\n",
            "my father had already gone through several doctors before finally getting hislast breath when we found out thathe succumbed along \n",
            "\n",
            "side many other people including myself and three \n",
            "\n",
            "Phishing Email : 2\n",
            "====================================================================================================\n",
            "i was told that you were in icu with \u001b[41m\u001b[37mcovid-19\u001b[0m and had diedi have not been able for the past 2 \n",
            "\n",
            "weeks or so because of this illness but am very hopeful that things will be all right please lets discuss \n",
            "\n",
            "next timethank youdrdavid \n",
            "\n",
            "Phishing Email : 3\n",
            "====================================================================================================\n",
            "i will be in touch with you asapi have been diagnosedwith covasysmogulism and am undergoing a long hospitalization that has leftme \n",
            "\n",
            "feeling very tired from the time we got together forthe firsttime since our last conversation before he died \n",
            "\n"
          ]
        }
      ]
    },
    {
      "cell_type": "markdown",
      "source": [
        "## Topic for Finace of Fraud Emails"
      ],
      "metadata": {
        "id": "tovBxbqegxv4"
      }
    },
    {
      "cell_type": "code",
      "source": [
        "title = 'How was that payment? reply to me soon '\n",
        "#title = 'I will get back to you in the am '\n",
        "#title = 'please, reply to me soon '\n",
        "keywords = ['bank','account','number','reply','credit']"
      ],
      "metadata": {
        "id": "nUJ0PnTagpF6"
      },
      "execution_count": 69,
      "outputs": []
    },
    {
      "cell_type": "code",
      "source": [
        "types = \"Fraud\" \n",
        "category = \"BUSINESS\"\n",
        "formats = \"Email\"\n",
        "kw = join_keywords(keywords, randomize=False)\n",
        "\n",
        "\n",
        "prompt = SPECIAL_TOKENS['bos_token'] + types + \\\n",
        "                SPECIAL_TOKENS['sep_token'] + category + \\\n",
        "                SPECIAL_TOKENS['sep_token'] + formats + \\\n",
        "                SPECIAL_TOKENS['sep_token'] + title + \\\n",
        "                SPECIAL_TOKENS['sep_token'] + kw\n",
        "generated = torch.tensor(tokenizer.encode(prompt)).unsqueeze(0)\n",
        "device = torch.device(\"cuda\")\n",
        "generated = generated.to(device)\n",
        "\n",
        "model.eval();"
      ],
      "metadata": {
        "id": "ir3_sUNfUx6S"
      },
      "execution_count": 70,
      "outputs": []
    },
    {
      "cell_type": "code",
      "source": [
        "from termcolor import colored\n",
        "# Top-p (nucleus) text generation (10 samples):\n",
        "sample_outputs = model.generate(generated, \n",
        "                do_sample=True,   \n",
        "                min_length=20, \n",
        "                max_length=200,\n",
        "                top_k=10,                              \n",
        "                top_p=0.5,\n",
        "                repetition_penalty=2.0,\n",
        "                num_return_sequences=3\n",
        "                )\n",
        "\n",
        "predt_email = []\n",
        "prompt = len(types)+len(category)+len(formats)+ len(title) + len(kw) \n",
        "for i, sample_output in enumerate(sample_outputs):\n",
        "  predit_text = tokenizer.decode(sample_output, skip_special_tokens=True)[prompt:]\n",
        "  index = predit_text.find('.')\n",
        "  result = \" \".join(colored(t,'white','on_red') if remove_Symbol(t) in keywords else remove_Symbol(t) for t in predit_text[index+1:].lower().split())\n",
        "  print('Phishing Email : {}'.format(i+1))\n",
        "  print(\"=\"*100)\n",
        "  for j,t in enumerate(result.split(' ')):\n",
        "    print(t+' ',end='')\n",
        "    if j%20==0 and j!=0:\n",
        "      print('\\n')\n",
        "  print('\\n')"
      ],
      "metadata": {
        "colab": {
          "base_uri": "https://localhost:8080/"
        },
        "id": "G1j2_5FBZ5z9",
        "outputId": "a7cdf13b-31d2-4e98-9fc0-80eab9419d44"
      },
      "execution_count": 73,
      "outputs": [
        {
          "output_type": "stream",
          "name": "stdout",
          "text": [
            "Phishing Email : 1\n",
            "====================================================================================================\n",
            "i am mrdaniel smith from south africamy name is daniel jnrbankauvergneafricawhy did those funds arrive atyour \u001b[41m\u001b[37mbank\u001b[0m during this time periodreply \n",
            "\n",
            "mine now so we can discuss further about how bestto transfer these money outof our accounts for investment purposesthankyou very \n",
            "\n",
            "muchbest regardsmrdavidsmith \n",
            "\n",
            "Phishing Email : 2\n",
            "====================================================================================================\n",
            "i will be very grateful if you can give my a few days noticei am mr michael kowalski of the \u001b[41m\u001b[37mbank\u001b[0m \n",
            "\n",
            "of africa boa here in dakar senegal and have an urgentand profitablebusiness proposition foryouthis is necessitated bythe natureof this business \n",
            "\n",
            "proposalbefore we proceed however please considerthat there aretwo ways forwardfirstly it may come as surprise but i believe everyone knows \n",
            "\n",
            "how importantit has been paying off \u001b[41m\u001b[37mcredit\u001b[0m cards since its inception hence whyi decidednot contact any \u001b[41m\u001b[37mbank\u001b[0m or financial institution \n",
            "\n",
            "before makinga deposit with them secondly some banksfinancial institutions might feel threatened because theyare not considered foreign under yourcountrys lawsi \n",
            "\n",
            "would likefor both options above stated reasons tocome into effect at once so \n",
            "\n",
            "Phishing Email : 3\n",
            "====================================================================================================\n",
            "i am contacting you on a business transaction of this magnitude i have an \u001b[41m\u001b[37maccount\u001b[0m with oneof the leadingbanks in nigeriawhich \n",
            "\n",
            "is presently undergoinginactivity due to my late fathers death andthe present circumstances surrounding his untimely demisemy nameis mrnelson idrisan executiveaccountantcontractorwith \n",
            "\n",
            "nigerian \u001b[41m\u001b[37mbank\u001b[0m of africa boaouagadeargwazi londonunited kingdom my fatherwas among those who were killed along side our countrymen by nigerian \n",
            "\n",
            "army during their invasion into southernafricaafricasamerican2ebank3dhow was that payment made or receivedreply back quickly asapthankyou for all your efforts over \n",
            "\n",
            "\n",
            "\n"
          ]
        }
      ]
    },
    {
      "cell_type": "markdown",
      "source": [
        "## 2. Generation phishing emails for BEC"
      ],
      "metadata": {
        "id": "VonB6CikVz1R"
      }
    },
    {
      "cell_type": "markdown",
      "source": [
        "## Topic for COIVD19 of BEC Emails"
      ],
      "metadata": {
        "id": "FjZxIM7hmGYj"
      }
    },
    {
      "cell_type": "code",
      "source": [
        "title = \"please reply to me soon \"\n",
        "#title = \"please complete as soon as possible \"\n",
        "#title = 'I will get back to you in the am '\n",
        "#title = 'We are keenly interested in setting up a new hospital '\n",
        "#title = 'How about was that payment? reply to me soon '\n",
        "#title = \"I will get back to you in the am \"\n",
        "types = \"Normal\" \n",
        "category = \"BUSINESS\"\n",
        "formats = \"Email\"\n",
        "keywords = ['covid19', 'case', 'hospital','CDC']\n",
        "kw = join_keywords(keywords, randomize=False)\n",
        "\n",
        "\n",
        "prompt = SPECIAL_TOKENS['bos_token'] + types + \\\n",
        "                SPECIAL_TOKENS['sep_token'] + category + \\\n",
        "                SPECIAL_TOKENS['sep_token'] + formats + \\\n",
        "                SPECIAL_TOKENS['sep_token'] + title + \\\n",
        "                SPECIAL_TOKENS['sep_token'] + kw\n",
        "generated = torch.tensor(tokenizer.encode(prompt)).unsqueeze(0)\n",
        "device = torch.device(\"cuda\")\n",
        "generated = generated.to(device)\n",
        "\n",
        "model.eval();"
      ],
      "metadata": {
        "id": "cCeDCORWV41r"
      },
      "execution_count": 37,
      "outputs": []
    },
    {
      "cell_type": "code",
      "source": [
        "from termcolor import colored\n",
        "# Top-p (nucleus) text generation (10 samples):\n",
        "sample_outputs = model.generate(generated, \n",
        "                do_sample=True,   \n",
        "                min_length=20, \n",
        "                max_length=200,\n",
        "                top_k=10,                              \n",
        "                top_p=0.5,\n",
        "                repetition_penalty=2.0,\n",
        "                num_return_sequences=3\n",
        "                )\n",
        "\n",
        "predt_email = []\n",
        "prompt = len(types)+len(category)+len(formats)+ len(title) + len(kw) \n",
        "for i, sample_output in enumerate(sample_outputs):\n",
        "  predit_text = tokenizer.decode(sample_output, skip_special_tokens=True)[prompt:]\n",
        "  index = predit_text.find('.')\n",
        "  result = \" \".join(colored(t,'white','on_red') if remove_Symbol(t) in keywords else remove_Symbol(t) for t in predit_text[index+1:].lower().split())\n",
        "  print('Phishing Email : {}'.format(i+1))\n",
        "  print(\"=\"*100)\n",
        "  for j,t in enumerate(result.split(' ')):\n",
        "    print(t+' ',end='')\n",
        "    if j%20==0 and j!=0:\n",
        "      print('\\n')\n",
        "  print('\\n')"
      ],
      "metadata": {
        "id": "4jVqoO3eV3hk",
        "colab": {
          "base_uri": "https://localhost:8080/"
        },
        "outputId": "0fc71a97-f206-4737-bd46-55c7f47fdfb3"
      },
      "execution_count": 50,
      "outputs": [
        {
          "output_type": "stream",
          "name": "stdout",
          "text": [
            "Phishing Email : 1\n",
            "====================================================================================================\n",
            "i am in the \u001b[41m\u001b[37mhospital\u001b[0m bed with a cot on top of us that is being kept from oxygen and heat \n",
            "\n",
            "so we are not able to move around or breathei have been diagnosedwith \u001b[41m\u001b[37mcovid-19\u001b[0m which means theres no cell phone \n",
            "\n",
            "receptioncavids please reply via email shortly we will be transferred into icu where they cant communicate wuscvad19cellddccontact you sooner \n",
            "\n",
            "Phishing Email : 2\n",
            "====================================================================================================\n",
            "i have not seen him in over a year so this is the first time that he has spoken publicly about \n",
            "\n",
            "his condition since being hospitalized last week with \u001b[41m\u001b[37mcovid-19\u001b[0m at columbia university \n",
            "\n",
            "Phishing Email : 3\n",
            "====================================================================================================\n",
            "i have not seen you before but hope that we will meet again in person or by phone for a more \n",
            "\n",
            "informal discussion about the situation at our \u001b[41m\u001b[37mhospital\u001b[0m and how best it can be resolvedi am drdavid covidine an assistant \n",
            "\n",
            "professor of medicine with columbia university schoolof public health the director is also chief medical officerfor cdcnyu and serves as \n",
            "\n",
            "deputydirector of operationsfor over 20 years he has worked on infectious disease issues including coordinating clinical trialsand vaccine development for \n",
            "\n",
            "multiple vaccines and antigenic testing programsfor novel therapeutics for diseases including hiv1 \n",
            "\n"
          ]
        }
      ]
    },
    {
      "cell_type": "markdown",
      "source": [
        "## Topic for finance of BEC Emails"
      ],
      "metadata": {
        "id": "fmv8mg_bmEzW"
      }
    },
    {
      "cell_type": "code",
      "source": [
        "title = 'How was that payment? reply to me soon '\n",
        "#title = 'I will get back to you in the am '\n",
        "#title = 'please, reply to me soon '\n",
        "keywords = ['bank','account','number','reply','credit']\n",
        "#keywords = ['bank','account','reply','number','credit']"
      ],
      "metadata": {
        "id": "Fsm_qqacmEcI"
      },
      "execution_count": 51,
      "outputs": []
    },
    {
      "cell_type": "code",
      "source": [
        "types = \"Normal\"\n",
        "category = \"BUSINESS\"\n",
        "formats = \"Email\"\n",
        "\n",
        "kw = join_keywords(keywords, randomize=False)\n",
        "\n",
        "\n",
        "prompt = SPECIAL_TOKENS['bos_token'] + types + \\\n",
        "                SPECIAL_TOKENS['sep_token'] + category + \\\n",
        "                SPECIAL_TOKENS['sep_token'] + formats + \\\n",
        "                SPECIAL_TOKENS['sep_token'] + title + \\\n",
        "                SPECIAL_TOKENS['sep_token'] + kw\n",
        "print(prompt)\n",
        "generated = torch.tensor(tokenizer.encode(prompt)).unsqueeze(0)\n",
        "device = torch.device(\"cuda\")\n",
        "generated = generated.to(device)\n",
        "print(generated)\n",
        "model.eval();"
      ],
      "metadata": {
        "id": "VV2CrBRukQAe",
        "colab": {
          "base_uri": "https://localhost:8080/"
        },
        "outputId": "077a2fca-fbd9-4844-e7ef-44e07f4d1f2b"
      },
      "execution_count": 52,
      "outputs": [
        {
          "output_type": "stream",
          "name": "stdout",
          "text": [
            "<|BOS|>Normal<|SEP|>BUSINESS<|SEP|>Email<|SEP|>How was that payment? reply to me soon <|SEP|>bank,account,number,reply,credit\n",
            "tensor([[50257, 26447, 50261, 45346, 44180, 50261, 15333, 50261,  2437,   373,\n",
            "           326,  6074,    30, 10971,   284,   502,  2582,   220, 50261, 17796,\n",
            "            11, 23317,    11, 17618,    11, 47768,    11, 43082]],\n",
            "       device='cuda:0')\n"
          ]
        }
      ]
    },
    {
      "cell_type": "code",
      "source": [
        "from termcolor import colored\n",
        "# Top-p (nucleus) text generation (10 samples):\n",
        "sample_outputs = model.generate(generated, \n",
        "                do_sample=True,   \n",
        "                min_length=20, \n",
        "                max_length=200,\n",
        "                top_k=10,                              \n",
        "                top_p=0.5,\n",
        "                repetition_penalty=2.0,\n",
        "                num_return_sequences=3\n",
        "                )\n",
        "\n",
        "predt_email = []\n",
        "prompt = len(types)+len(category)+len(formats)+ len(title) + len(kw) \n",
        "for i, sample_output in enumerate(sample_outputs):\n",
        "  predit_text = tokenizer.decode(sample_output, skip_special_tokens=True)[prompt:]\n",
        "  index = predit_text.find('.')\n",
        "  result = \" \".join(colored(t,'white','on_red') if remove_Symbol(t) in keywords else remove_Symbol(t) for t in predit_text[index+1:].lower().split())\n",
        "  print('Phishing Email : {}'.format(i+1))\n",
        "  print(\"=\"*100)\n",
        "  for j,t in enumerate(result.split(' ')):\n",
        "    print(t+' ',end='')\n",
        "    if j%20==0 and j!=0:\n",
        "      print('\\n')\n",
        "  print('\\n')"
      ],
      "metadata": {
        "colab": {
          "base_uri": "https://localhost:8080/"
        },
        "id": "MdhaT4qyeyqC",
        "outputId": "fb5e4853-dc9b-43cf-d7c0-812f18182de5"
      },
      "execution_count": 68,
      "outputs": [
        {
          "output_type": "stream",
          "name": "stdout",
          "text": [
            "Phishing Email : 1\n",
            "====================================================================================================\n",
            "the \u001b[41m\u001b[37maccount\u001b[0m is in my name and has been dormant since we were married we have two childreni am contacting you \n",
            "\n",
            "because of this business opportunity which will be very beneficialto both parties please acceptmy sincere apologizes if it appears as \n",
            "\n",
            "thoughyou are being treated unfairly or otherwisedisparately bythis companybankaccountsbankhowwas that payments amount \u001b[41m\u001b[37mreply\u001b[0m to me soon \n",
            "\n",
            "Phishing Email : 2\n",
            "====================================================================================================\n",
            "\u001b[41m\u001b[37mreply\u001b[0m back in a few weeksi will be very grateful if we can do this together \n",
            "\n",
            "Phishing Email : 3\n",
            "====================================================================================================\n",
            "5m in deposits and withdrawals from your \u001b[41m\u001b[37mbank\u001b[0m \u001b[41m\u001b[37maccount\u001b[0m with a balance of us78 million three hundred thousand dollars for twelve \n",
            "\n",
            "calendar months answer the \u001b[41m\u001b[37mnumber\u001b[0m is simply an estimation based on my personal knowledge about how much money i have \n",
            "\n",
            "available at any given time \n",
            "\n"
          ]
        }
      ]
    }
  ],
  "metadata": {
    "accelerator": "GPU",
    "colab": {
      "collapsed_sections": [],
      "name": "GPT2_Generation.ipynb",
      "provenance": [],
      "include_colab_link": true
    },
    "kernelspec": {
      "display_name": "Python 3",
      "name": "python3"
    },
    "language_info": {
      "name": "python"
    },
    "widgets": {
      "application/vnd.jupyter.widget-state+json": {
        "aec42c58c48442d2bfe5f17f30423c37": {
          "model_module": "@jupyter-widgets/controls",
          "model_name": "HBoxModel",
          "model_module_version": "1.5.0",
          "state": {
            "_dom_classes": [],
            "_model_module": "@jupyter-widgets/controls",
            "_model_module_version": "1.5.0",
            "_model_name": "HBoxModel",
            "_view_count": null,
            "_view_module": "@jupyter-widgets/controls",
            "_view_module_version": "1.5.0",
            "_view_name": "HBoxView",
            "box_style": "",
            "children": [
              "IPY_MODEL_a135a3c0d64d403eb165b3213c5b68f5",
              "IPY_MODEL_ddd56023a5ec47768a252cb4be52747e",
              "IPY_MODEL_54dd4fca97184f268a8089d6a6177d9a"
            ],
            "layout": "IPY_MODEL_7b14b0ac189c4ad280535456b42082d0"
          }
        },
        "a135a3c0d64d403eb165b3213c5b68f5": {
          "model_module": "@jupyter-widgets/controls",
          "model_name": "HTMLModel",
          "model_module_version": "1.5.0",
          "state": {
            "_dom_classes": [],
            "_model_module": "@jupyter-widgets/controls",
            "_model_module_version": "1.5.0",
            "_model_name": "HTMLModel",
            "_view_count": null,
            "_view_module": "@jupyter-widgets/controls",
            "_view_module_version": "1.5.0",
            "_view_name": "HTMLView",
            "description": "",
            "description_tooltip": null,
            "layout": "IPY_MODEL_e31d888498cf44c7bab9471b59e8509e",
            "placeholder": "​",
            "style": "IPY_MODEL_d914d2607298480782c87b0d2a18c55a",
            "value": "Downloading: 100%"
          }
        },
        "ddd56023a5ec47768a252cb4be52747e": {
          "model_module": "@jupyter-widgets/controls",
          "model_name": "FloatProgressModel",
          "model_module_version": "1.5.0",
          "state": {
            "_dom_classes": [],
            "_model_module": "@jupyter-widgets/controls",
            "_model_module_version": "1.5.0",
            "_model_name": "FloatProgressModel",
            "_view_count": null,
            "_view_module": "@jupyter-widgets/controls",
            "_view_module_version": "1.5.0",
            "_view_name": "ProgressView",
            "bar_style": "success",
            "description": "",
            "description_tooltip": null,
            "layout": "IPY_MODEL_3ba7537479eb42cb9663dc7b3b7245bd",
            "max": 718,
            "min": 0,
            "orientation": "horizontal",
            "style": "IPY_MODEL_0be2e85987084b6fbd4e0dbd431ff46e",
            "value": 718
          }
        },
        "54dd4fca97184f268a8089d6a6177d9a": {
          "model_module": "@jupyter-widgets/controls",
          "model_name": "HTMLModel",
          "model_module_version": "1.5.0",
          "state": {
            "_dom_classes": [],
            "_model_module": "@jupyter-widgets/controls",
            "_model_module_version": "1.5.0",
            "_model_name": "HTMLModel",
            "_view_count": null,
            "_view_module": "@jupyter-widgets/controls",
            "_view_module_version": "1.5.0",
            "_view_name": "HTMLView",
            "description": "",
            "description_tooltip": null,
            "layout": "IPY_MODEL_83187d24edd944349e453922d750070c",
            "placeholder": "​",
            "style": "IPY_MODEL_566d59dd2234426181149b79d5c91492",
            "value": " 718/718 [00:00&lt;00:00, 17.9kB/s]"
          }
        },
        "7b14b0ac189c4ad280535456b42082d0": {
          "model_module": "@jupyter-widgets/base",
          "model_name": "LayoutModel",
          "model_module_version": "1.2.0",
          "state": {
            "_model_module": "@jupyter-widgets/base",
            "_model_module_version": "1.2.0",
            "_model_name": "LayoutModel",
            "_view_count": null,
            "_view_module": "@jupyter-widgets/base",
            "_view_module_version": "1.2.0",
            "_view_name": "LayoutView",
            "align_content": null,
            "align_items": null,
            "align_self": null,
            "border": null,
            "bottom": null,
            "display": null,
            "flex": null,
            "flex_flow": null,
            "grid_area": null,
            "grid_auto_columns": null,
            "grid_auto_flow": null,
            "grid_auto_rows": null,
            "grid_column": null,
            "grid_gap": null,
            "grid_row": null,
            "grid_template_areas": null,
            "grid_template_columns": null,
            "grid_template_rows": null,
            "height": null,
            "justify_content": null,
            "justify_items": null,
            "left": null,
            "margin": null,
            "max_height": null,
            "max_width": null,
            "min_height": null,
            "min_width": null,
            "object_fit": null,
            "object_position": null,
            "order": null,
            "overflow": null,
            "overflow_x": null,
            "overflow_y": null,
            "padding": null,
            "right": null,
            "top": null,
            "visibility": null,
            "width": null
          }
        },
        "e31d888498cf44c7bab9471b59e8509e": {
          "model_module": "@jupyter-widgets/base",
          "model_name": "LayoutModel",
          "model_module_version": "1.2.0",
          "state": {
            "_model_module": "@jupyter-widgets/base",
            "_model_module_version": "1.2.0",
            "_model_name": "LayoutModel",
            "_view_count": null,
            "_view_module": "@jupyter-widgets/base",
            "_view_module_version": "1.2.0",
            "_view_name": "LayoutView",
            "align_content": null,
            "align_items": null,
            "align_self": null,
            "border": null,
            "bottom": null,
            "display": null,
            "flex": null,
            "flex_flow": null,
            "grid_area": null,
            "grid_auto_columns": null,
            "grid_auto_flow": null,
            "grid_auto_rows": null,
            "grid_column": null,
            "grid_gap": null,
            "grid_row": null,
            "grid_template_areas": null,
            "grid_template_columns": null,
            "grid_template_rows": null,
            "height": null,
            "justify_content": null,
            "justify_items": null,
            "left": null,
            "margin": null,
            "max_height": null,
            "max_width": null,
            "min_height": null,
            "min_width": null,
            "object_fit": null,
            "object_position": null,
            "order": null,
            "overflow": null,
            "overflow_x": null,
            "overflow_y": null,
            "padding": null,
            "right": null,
            "top": null,
            "visibility": null,
            "width": null
          }
        },
        "d914d2607298480782c87b0d2a18c55a": {
          "model_module": "@jupyter-widgets/controls",
          "model_name": "DescriptionStyleModel",
          "model_module_version": "1.5.0",
          "state": {
            "_model_module": "@jupyter-widgets/controls",
            "_model_module_version": "1.5.0",
            "_model_name": "DescriptionStyleModel",
            "_view_count": null,
            "_view_module": "@jupyter-widgets/base",
            "_view_module_version": "1.2.0",
            "_view_name": "StyleView",
            "description_width": ""
          }
        },
        "3ba7537479eb42cb9663dc7b3b7245bd": {
          "model_module": "@jupyter-widgets/base",
          "model_name": "LayoutModel",
          "model_module_version": "1.2.0",
          "state": {
            "_model_module": "@jupyter-widgets/base",
            "_model_module_version": "1.2.0",
            "_model_name": "LayoutModel",
            "_view_count": null,
            "_view_module": "@jupyter-widgets/base",
            "_view_module_version": "1.2.0",
            "_view_name": "LayoutView",
            "align_content": null,
            "align_items": null,
            "align_self": null,
            "border": null,
            "bottom": null,
            "display": null,
            "flex": null,
            "flex_flow": null,
            "grid_area": null,
            "grid_auto_columns": null,
            "grid_auto_flow": null,
            "grid_auto_rows": null,
            "grid_column": null,
            "grid_gap": null,
            "grid_row": null,
            "grid_template_areas": null,
            "grid_template_columns": null,
            "grid_template_rows": null,
            "height": null,
            "justify_content": null,
            "justify_items": null,
            "left": null,
            "margin": null,
            "max_height": null,
            "max_width": null,
            "min_height": null,
            "min_width": null,
            "object_fit": null,
            "object_position": null,
            "order": null,
            "overflow": null,
            "overflow_x": null,
            "overflow_y": null,
            "padding": null,
            "right": null,
            "top": null,
            "visibility": null,
            "width": null
          }
        },
        "0be2e85987084b6fbd4e0dbd431ff46e": {
          "model_module": "@jupyter-widgets/controls",
          "model_name": "ProgressStyleModel",
          "model_module_version": "1.5.0",
          "state": {
            "_model_module": "@jupyter-widgets/controls",
            "_model_module_version": "1.5.0",
            "_model_name": "ProgressStyleModel",
            "_view_count": null,
            "_view_module": "@jupyter-widgets/base",
            "_view_module_version": "1.2.0",
            "_view_name": "StyleView",
            "bar_color": null,
            "description_width": ""
          }
        },
        "83187d24edd944349e453922d750070c": {
          "model_module": "@jupyter-widgets/base",
          "model_name": "LayoutModel",
          "model_module_version": "1.2.0",
          "state": {
            "_model_module": "@jupyter-widgets/base",
            "_model_module_version": "1.2.0",
            "_model_name": "LayoutModel",
            "_view_count": null,
            "_view_module": "@jupyter-widgets/base",
            "_view_module_version": "1.2.0",
            "_view_name": "LayoutView",
            "align_content": null,
            "align_items": null,
            "align_self": null,
            "border": null,
            "bottom": null,
            "display": null,
            "flex": null,
            "flex_flow": null,
            "grid_area": null,
            "grid_auto_columns": null,
            "grid_auto_flow": null,
            "grid_auto_rows": null,
            "grid_column": null,
            "grid_gap": null,
            "grid_row": null,
            "grid_template_areas": null,
            "grid_template_columns": null,
            "grid_template_rows": null,
            "height": null,
            "justify_content": null,
            "justify_items": null,
            "left": null,
            "margin": null,
            "max_height": null,
            "max_width": null,
            "min_height": null,
            "min_width": null,
            "object_fit": null,
            "object_position": null,
            "order": null,
            "overflow": null,
            "overflow_x": null,
            "overflow_y": null,
            "padding": null,
            "right": null,
            "top": null,
            "visibility": null,
            "width": null
          }
        },
        "566d59dd2234426181149b79d5c91492": {
          "model_module": "@jupyter-widgets/controls",
          "model_name": "DescriptionStyleModel",
          "model_module_version": "1.5.0",
          "state": {
            "_model_module": "@jupyter-widgets/controls",
            "_model_module_version": "1.5.0",
            "_model_name": "DescriptionStyleModel",
            "_view_count": null,
            "_view_module": "@jupyter-widgets/base",
            "_view_module_version": "1.2.0",
            "_view_name": "StyleView",
            "description_width": ""
          }
        },
        "e674176472864d7bab72d5bcd9deee75": {
          "model_module": "@jupyter-widgets/controls",
          "model_name": "HBoxModel",
          "model_module_version": "1.5.0",
          "state": {
            "_dom_classes": [],
            "_model_module": "@jupyter-widgets/controls",
            "_model_module_version": "1.5.0",
            "_model_name": "HBoxModel",
            "_view_count": null,
            "_view_module": "@jupyter-widgets/controls",
            "_view_module_version": "1.5.0",
            "_view_name": "HBoxView",
            "box_style": "",
            "children": [
              "IPY_MODEL_1fda99ab9d0c43c2a71db38274943b5e",
              "IPY_MODEL_d67f50502a1d45fd81fa30666462d1d6",
              "IPY_MODEL_28a11a44db0d4bb0977b9da1b0a18104"
            ],
            "layout": "IPY_MODEL_b4961a03cbde428f9bbaac9188edcb4d"
          }
        },
        "1fda99ab9d0c43c2a71db38274943b5e": {
          "model_module": "@jupyter-widgets/controls",
          "model_name": "HTMLModel",
          "model_module_version": "1.5.0",
          "state": {
            "_dom_classes": [],
            "_model_module": "@jupyter-widgets/controls",
            "_model_module_version": "1.5.0",
            "_model_name": "HTMLModel",
            "_view_count": null,
            "_view_module": "@jupyter-widgets/controls",
            "_view_module_version": "1.5.0",
            "_view_name": "HTMLView",
            "description": "",
            "description_tooltip": null,
            "layout": "IPY_MODEL_e984f469aa584dd4ba5b753e41e1c90c",
            "placeholder": "​",
            "style": "IPY_MODEL_24e5acf9bdc64b4baa2364432fc07392",
            "value": "Downloading: 100%"
          }
        },
        "d67f50502a1d45fd81fa30666462d1d6": {
          "model_module": "@jupyter-widgets/controls",
          "model_name": "FloatProgressModel",
          "model_module_version": "1.5.0",
          "state": {
            "_dom_classes": [],
            "_model_module": "@jupyter-widgets/controls",
            "_model_module_version": "1.5.0",
            "_model_name": "FloatProgressModel",
            "_view_count": null,
            "_view_module": "@jupyter-widgets/controls",
            "_view_module_version": "1.5.0",
            "_view_name": "ProgressView",
            "bar_style": "success",
            "description": "",
            "description_tooltip": null,
            "layout": "IPY_MODEL_91f02bab391e44b485d40bf012562814",
            "max": 1042301,
            "min": 0,
            "orientation": "horizontal",
            "style": "IPY_MODEL_2ab02cc29c494b3dbb4f03ce6027d722",
            "value": 1042301
          }
        },
        "28a11a44db0d4bb0977b9da1b0a18104": {
          "model_module": "@jupyter-widgets/controls",
          "model_name": "HTMLModel",
          "model_module_version": "1.5.0",
          "state": {
            "_dom_classes": [],
            "_model_module": "@jupyter-widgets/controls",
            "_model_module_version": "1.5.0",
            "_model_name": "HTMLModel",
            "_view_count": null,
            "_view_module": "@jupyter-widgets/controls",
            "_view_module_version": "1.5.0",
            "_view_name": "HTMLView",
            "description": "",
            "description_tooltip": null,
            "layout": "IPY_MODEL_20533918d5a44aa4b83ae13848b47239",
            "placeholder": "​",
            "style": "IPY_MODEL_3ae1344acc8c44129af26ee829d17904",
            "value": " 1.04M/1.04M [00:00&lt;00:00, 1.66MB/s]"
          }
        },
        "b4961a03cbde428f9bbaac9188edcb4d": {
          "model_module": "@jupyter-widgets/base",
          "model_name": "LayoutModel",
          "model_module_version": "1.2.0",
          "state": {
            "_model_module": "@jupyter-widgets/base",
            "_model_module_version": "1.2.0",
            "_model_name": "LayoutModel",
            "_view_count": null,
            "_view_module": "@jupyter-widgets/base",
            "_view_module_version": "1.2.0",
            "_view_name": "LayoutView",
            "align_content": null,
            "align_items": null,
            "align_self": null,
            "border": null,
            "bottom": null,
            "display": null,
            "flex": null,
            "flex_flow": null,
            "grid_area": null,
            "grid_auto_columns": null,
            "grid_auto_flow": null,
            "grid_auto_rows": null,
            "grid_column": null,
            "grid_gap": null,
            "grid_row": null,
            "grid_template_areas": null,
            "grid_template_columns": null,
            "grid_template_rows": null,
            "height": null,
            "justify_content": null,
            "justify_items": null,
            "left": null,
            "margin": null,
            "max_height": null,
            "max_width": null,
            "min_height": null,
            "min_width": null,
            "object_fit": null,
            "object_position": null,
            "order": null,
            "overflow": null,
            "overflow_x": null,
            "overflow_y": null,
            "padding": null,
            "right": null,
            "top": null,
            "visibility": null,
            "width": null
          }
        },
        "e984f469aa584dd4ba5b753e41e1c90c": {
          "model_module": "@jupyter-widgets/base",
          "model_name": "LayoutModel",
          "model_module_version": "1.2.0",
          "state": {
            "_model_module": "@jupyter-widgets/base",
            "_model_module_version": "1.2.0",
            "_model_name": "LayoutModel",
            "_view_count": null,
            "_view_module": "@jupyter-widgets/base",
            "_view_module_version": "1.2.0",
            "_view_name": "LayoutView",
            "align_content": null,
            "align_items": null,
            "align_self": null,
            "border": null,
            "bottom": null,
            "display": null,
            "flex": null,
            "flex_flow": null,
            "grid_area": null,
            "grid_auto_columns": null,
            "grid_auto_flow": null,
            "grid_auto_rows": null,
            "grid_column": null,
            "grid_gap": null,
            "grid_row": null,
            "grid_template_areas": null,
            "grid_template_columns": null,
            "grid_template_rows": null,
            "height": null,
            "justify_content": null,
            "justify_items": null,
            "left": null,
            "margin": null,
            "max_height": null,
            "max_width": null,
            "min_height": null,
            "min_width": null,
            "object_fit": null,
            "object_position": null,
            "order": null,
            "overflow": null,
            "overflow_x": null,
            "overflow_y": null,
            "padding": null,
            "right": null,
            "top": null,
            "visibility": null,
            "width": null
          }
        },
        "24e5acf9bdc64b4baa2364432fc07392": {
          "model_module": "@jupyter-widgets/controls",
          "model_name": "DescriptionStyleModel",
          "model_module_version": "1.5.0",
          "state": {
            "_model_module": "@jupyter-widgets/controls",
            "_model_module_version": "1.5.0",
            "_model_name": "DescriptionStyleModel",
            "_view_count": null,
            "_view_module": "@jupyter-widgets/base",
            "_view_module_version": "1.2.0",
            "_view_name": "StyleView",
            "description_width": ""
          }
        },
        "91f02bab391e44b485d40bf012562814": {
          "model_module": "@jupyter-widgets/base",
          "model_name": "LayoutModel",
          "model_module_version": "1.2.0",
          "state": {
            "_model_module": "@jupyter-widgets/base",
            "_model_module_version": "1.2.0",
            "_model_name": "LayoutModel",
            "_view_count": null,
            "_view_module": "@jupyter-widgets/base",
            "_view_module_version": "1.2.0",
            "_view_name": "LayoutView",
            "align_content": null,
            "align_items": null,
            "align_self": null,
            "border": null,
            "bottom": null,
            "display": null,
            "flex": null,
            "flex_flow": null,
            "grid_area": null,
            "grid_auto_columns": null,
            "grid_auto_flow": null,
            "grid_auto_rows": null,
            "grid_column": null,
            "grid_gap": null,
            "grid_row": null,
            "grid_template_areas": null,
            "grid_template_columns": null,
            "grid_template_rows": null,
            "height": null,
            "justify_content": null,
            "justify_items": null,
            "left": null,
            "margin": null,
            "max_height": null,
            "max_width": null,
            "min_height": null,
            "min_width": null,
            "object_fit": null,
            "object_position": null,
            "order": null,
            "overflow": null,
            "overflow_x": null,
            "overflow_y": null,
            "padding": null,
            "right": null,
            "top": null,
            "visibility": null,
            "width": null
          }
        },
        "2ab02cc29c494b3dbb4f03ce6027d722": {
          "model_module": "@jupyter-widgets/controls",
          "model_name": "ProgressStyleModel",
          "model_module_version": "1.5.0",
          "state": {
            "_model_module": "@jupyter-widgets/controls",
            "_model_module_version": "1.5.0",
            "_model_name": "ProgressStyleModel",
            "_view_count": null,
            "_view_module": "@jupyter-widgets/base",
            "_view_module_version": "1.2.0",
            "_view_name": "StyleView",
            "bar_color": null,
            "description_width": ""
          }
        },
        "20533918d5a44aa4b83ae13848b47239": {
          "model_module": "@jupyter-widgets/base",
          "model_name": "LayoutModel",
          "model_module_version": "1.2.0",
          "state": {
            "_model_module": "@jupyter-widgets/base",
            "_model_module_version": "1.2.0",
            "_model_name": "LayoutModel",
            "_view_count": null,
            "_view_module": "@jupyter-widgets/base",
            "_view_module_version": "1.2.0",
            "_view_name": "LayoutView",
            "align_content": null,
            "align_items": null,
            "align_self": null,
            "border": null,
            "bottom": null,
            "display": null,
            "flex": null,
            "flex_flow": null,
            "grid_area": null,
            "grid_auto_columns": null,
            "grid_auto_flow": null,
            "grid_auto_rows": null,
            "grid_column": null,
            "grid_gap": null,
            "grid_row": null,
            "grid_template_areas": null,
            "grid_template_columns": null,
            "grid_template_rows": null,
            "height": null,
            "justify_content": null,
            "justify_items": null,
            "left": null,
            "margin": null,
            "max_height": null,
            "max_width": null,
            "min_height": null,
            "min_width": null,
            "object_fit": null,
            "object_position": null,
            "order": null,
            "overflow": null,
            "overflow_x": null,
            "overflow_y": null,
            "padding": null,
            "right": null,
            "top": null,
            "visibility": null,
            "width": null
          }
        },
        "3ae1344acc8c44129af26ee829d17904": {
          "model_module": "@jupyter-widgets/controls",
          "model_name": "DescriptionStyleModel",
          "model_module_version": "1.5.0",
          "state": {
            "_model_module": "@jupyter-widgets/controls",
            "_model_module_version": "1.5.0",
            "_model_name": "DescriptionStyleModel",
            "_view_count": null,
            "_view_module": "@jupyter-widgets/base",
            "_view_module_version": "1.2.0",
            "_view_name": "StyleView",
            "description_width": ""
          }
        },
        "832381ea318b4e71bc6c61059c0a1d44": {
          "model_module": "@jupyter-widgets/controls",
          "model_name": "HBoxModel",
          "model_module_version": "1.5.0",
          "state": {
            "_dom_classes": [],
            "_model_module": "@jupyter-widgets/controls",
            "_model_module_version": "1.5.0",
            "_model_name": "HBoxModel",
            "_view_count": null,
            "_view_module": "@jupyter-widgets/controls",
            "_view_module_version": "1.5.0",
            "_view_name": "HBoxView",
            "box_style": "",
            "children": [
              "IPY_MODEL_1571afeb6069421b924dca94c6b95e73",
              "IPY_MODEL_5aa1e154155a49c6a7cf07ebcea8c190",
              "IPY_MODEL_8655b53041d94233a045d5f46f2e79ff"
            ],
            "layout": "IPY_MODEL_03b0f0035d854f17966d7a06c858f48b"
          }
        },
        "1571afeb6069421b924dca94c6b95e73": {
          "model_module": "@jupyter-widgets/controls",
          "model_name": "HTMLModel",
          "model_module_version": "1.5.0",
          "state": {
            "_dom_classes": [],
            "_model_module": "@jupyter-widgets/controls",
            "_model_module_version": "1.5.0",
            "_model_name": "HTMLModel",
            "_view_count": null,
            "_view_module": "@jupyter-widgets/controls",
            "_view_module_version": "1.5.0",
            "_view_name": "HTMLView",
            "description": "",
            "description_tooltip": null,
            "layout": "IPY_MODEL_0b47a8d041e0492ba55f711473ff0bb8",
            "placeholder": "​",
            "style": "IPY_MODEL_e2affa85b7944f5ba88e94fd97609546",
            "value": "Downloading: 100%"
          }
        },
        "5aa1e154155a49c6a7cf07ebcea8c190": {
          "model_module": "@jupyter-widgets/controls",
          "model_name": "FloatProgressModel",
          "model_module_version": "1.5.0",
          "state": {
            "_dom_classes": [],
            "_model_module": "@jupyter-widgets/controls",
            "_model_module_version": "1.5.0",
            "_model_name": "FloatProgressModel",
            "_view_count": null,
            "_view_module": "@jupyter-widgets/controls",
            "_view_module_version": "1.5.0",
            "_view_name": "ProgressView",
            "bar_style": "success",
            "description": "",
            "description_tooltip": null,
            "layout": "IPY_MODEL_aa66817cd24d419db658a530d9b2d9bc",
            "max": 456318,
            "min": 0,
            "orientation": "horizontal",
            "style": "IPY_MODEL_5b8e19b0f5ed4c9597ab939b0c0be24b",
            "value": 456318
          }
        },
        "8655b53041d94233a045d5f46f2e79ff": {
          "model_module": "@jupyter-widgets/controls",
          "model_name": "HTMLModel",
          "model_module_version": "1.5.0",
          "state": {
            "_dom_classes": [],
            "_model_module": "@jupyter-widgets/controls",
            "_model_module_version": "1.5.0",
            "_model_name": "HTMLModel",
            "_view_count": null,
            "_view_module": "@jupyter-widgets/controls",
            "_view_module_version": "1.5.0",
            "_view_name": "HTMLView",
            "description": "",
            "description_tooltip": null,
            "layout": "IPY_MODEL_13b9ac344fb2451b9049016463864129",
            "placeholder": "​",
            "style": "IPY_MODEL_c32d34eb4e364a97a87899ab868ed51a",
            "value": " 456k/456k [00:00&lt;00:00, 904kB/s]"
          }
        },
        "03b0f0035d854f17966d7a06c858f48b": {
          "model_module": "@jupyter-widgets/base",
          "model_name": "LayoutModel",
          "model_module_version": "1.2.0",
          "state": {
            "_model_module": "@jupyter-widgets/base",
            "_model_module_version": "1.2.0",
            "_model_name": "LayoutModel",
            "_view_count": null,
            "_view_module": "@jupyter-widgets/base",
            "_view_module_version": "1.2.0",
            "_view_name": "LayoutView",
            "align_content": null,
            "align_items": null,
            "align_self": null,
            "border": null,
            "bottom": null,
            "display": null,
            "flex": null,
            "flex_flow": null,
            "grid_area": null,
            "grid_auto_columns": null,
            "grid_auto_flow": null,
            "grid_auto_rows": null,
            "grid_column": null,
            "grid_gap": null,
            "grid_row": null,
            "grid_template_areas": null,
            "grid_template_columns": null,
            "grid_template_rows": null,
            "height": null,
            "justify_content": null,
            "justify_items": null,
            "left": null,
            "margin": null,
            "max_height": null,
            "max_width": null,
            "min_height": null,
            "min_width": null,
            "object_fit": null,
            "object_position": null,
            "order": null,
            "overflow": null,
            "overflow_x": null,
            "overflow_y": null,
            "padding": null,
            "right": null,
            "top": null,
            "visibility": null,
            "width": null
          }
        },
        "0b47a8d041e0492ba55f711473ff0bb8": {
          "model_module": "@jupyter-widgets/base",
          "model_name": "LayoutModel",
          "model_module_version": "1.2.0",
          "state": {
            "_model_module": "@jupyter-widgets/base",
            "_model_module_version": "1.2.0",
            "_model_name": "LayoutModel",
            "_view_count": null,
            "_view_module": "@jupyter-widgets/base",
            "_view_module_version": "1.2.0",
            "_view_name": "LayoutView",
            "align_content": null,
            "align_items": null,
            "align_self": null,
            "border": null,
            "bottom": null,
            "display": null,
            "flex": null,
            "flex_flow": null,
            "grid_area": null,
            "grid_auto_columns": null,
            "grid_auto_flow": null,
            "grid_auto_rows": null,
            "grid_column": null,
            "grid_gap": null,
            "grid_row": null,
            "grid_template_areas": null,
            "grid_template_columns": null,
            "grid_template_rows": null,
            "height": null,
            "justify_content": null,
            "justify_items": null,
            "left": null,
            "margin": null,
            "max_height": null,
            "max_width": null,
            "min_height": null,
            "min_width": null,
            "object_fit": null,
            "object_position": null,
            "order": null,
            "overflow": null,
            "overflow_x": null,
            "overflow_y": null,
            "padding": null,
            "right": null,
            "top": null,
            "visibility": null,
            "width": null
          }
        },
        "e2affa85b7944f5ba88e94fd97609546": {
          "model_module": "@jupyter-widgets/controls",
          "model_name": "DescriptionStyleModel",
          "model_module_version": "1.5.0",
          "state": {
            "_model_module": "@jupyter-widgets/controls",
            "_model_module_version": "1.5.0",
            "_model_name": "DescriptionStyleModel",
            "_view_count": null,
            "_view_module": "@jupyter-widgets/base",
            "_view_module_version": "1.2.0",
            "_view_name": "StyleView",
            "description_width": ""
          }
        },
        "aa66817cd24d419db658a530d9b2d9bc": {
          "model_module": "@jupyter-widgets/base",
          "model_name": "LayoutModel",
          "model_module_version": "1.2.0",
          "state": {
            "_model_module": "@jupyter-widgets/base",
            "_model_module_version": "1.2.0",
            "_model_name": "LayoutModel",
            "_view_count": null,
            "_view_module": "@jupyter-widgets/base",
            "_view_module_version": "1.2.0",
            "_view_name": "LayoutView",
            "align_content": null,
            "align_items": null,
            "align_self": null,
            "border": null,
            "bottom": null,
            "display": null,
            "flex": null,
            "flex_flow": null,
            "grid_area": null,
            "grid_auto_columns": null,
            "grid_auto_flow": null,
            "grid_auto_rows": null,
            "grid_column": null,
            "grid_gap": null,
            "grid_row": null,
            "grid_template_areas": null,
            "grid_template_columns": null,
            "grid_template_rows": null,
            "height": null,
            "justify_content": null,
            "justify_items": null,
            "left": null,
            "margin": null,
            "max_height": null,
            "max_width": null,
            "min_height": null,
            "min_width": null,
            "object_fit": null,
            "object_position": null,
            "order": null,
            "overflow": null,
            "overflow_x": null,
            "overflow_y": null,
            "padding": null,
            "right": null,
            "top": null,
            "visibility": null,
            "width": null
          }
        },
        "5b8e19b0f5ed4c9597ab939b0c0be24b": {
          "model_module": "@jupyter-widgets/controls",
          "model_name": "ProgressStyleModel",
          "model_module_version": "1.5.0",
          "state": {
            "_model_module": "@jupyter-widgets/controls",
            "_model_module_version": "1.5.0",
            "_model_name": "ProgressStyleModel",
            "_view_count": null,
            "_view_module": "@jupyter-widgets/base",
            "_view_module_version": "1.2.0",
            "_view_name": "StyleView",
            "bar_color": null,
            "description_width": ""
          }
        },
        "13b9ac344fb2451b9049016463864129": {
          "model_module": "@jupyter-widgets/base",
          "model_name": "LayoutModel",
          "model_module_version": "1.2.0",
          "state": {
            "_model_module": "@jupyter-widgets/base",
            "_model_module_version": "1.2.0",
            "_model_name": "LayoutModel",
            "_view_count": null,
            "_view_module": "@jupyter-widgets/base",
            "_view_module_version": "1.2.0",
            "_view_name": "LayoutView",
            "align_content": null,
            "align_items": null,
            "align_self": null,
            "border": null,
            "bottom": null,
            "display": null,
            "flex": null,
            "flex_flow": null,
            "grid_area": null,
            "grid_auto_columns": null,
            "grid_auto_flow": null,
            "grid_auto_rows": null,
            "grid_column": null,
            "grid_gap": null,
            "grid_row": null,
            "grid_template_areas": null,
            "grid_template_columns": null,
            "grid_template_rows": null,
            "height": null,
            "justify_content": null,
            "justify_items": null,
            "left": null,
            "margin": null,
            "max_height": null,
            "max_width": null,
            "min_height": null,
            "min_width": null,
            "object_fit": null,
            "object_position": null,
            "order": null,
            "overflow": null,
            "overflow_x": null,
            "overflow_y": null,
            "padding": null,
            "right": null,
            "top": null,
            "visibility": null,
            "width": null
          }
        },
        "c32d34eb4e364a97a87899ab868ed51a": {
          "model_module": "@jupyter-widgets/controls",
          "model_name": "DescriptionStyleModel",
          "model_module_version": "1.5.0",
          "state": {
            "_model_module": "@jupyter-widgets/controls",
            "_model_module_version": "1.5.0",
            "_model_name": "DescriptionStyleModel",
            "_view_count": null,
            "_view_module": "@jupyter-widgets/base",
            "_view_module_version": "1.2.0",
            "_view_name": "StyleView",
            "description_width": ""
          }
        },
        "0939d3120f67463c930d707580f735f9": {
          "model_module": "@jupyter-widgets/controls",
          "model_name": "HBoxModel",
          "model_module_version": "1.5.0",
          "state": {
            "_dom_classes": [],
            "_model_module": "@jupyter-widgets/controls",
            "_model_module_version": "1.5.0",
            "_model_name": "HBoxModel",
            "_view_count": null,
            "_view_module": "@jupyter-widgets/controls",
            "_view_module_version": "1.5.0",
            "_view_name": "HBoxView",
            "box_style": "",
            "children": [
              "IPY_MODEL_efdc3e42daa145c9acd369a973946e83",
              "IPY_MODEL_1e7f4760d3e54536949458c22ee023f3",
              "IPY_MODEL_9d99982783aa425dbe33bf6ff6f59273"
            ],
            "layout": "IPY_MODEL_433bfbbfcda84546a8210c8106ab57be"
          }
        },
        "efdc3e42daa145c9acd369a973946e83": {
          "model_module": "@jupyter-widgets/controls",
          "model_name": "HTMLModel",
          "model_module_version": "1.5.0",
          "state": {
            "_dom_classes": [],
            "_model_module": "@jupyter-widgets/controls",
            "_model_module_version": "1.5.0",
            "_model_name": "HTMLModel",
            "_view_count": null,
            "_view_module": "@jupyter-widgets/controls",
            "_view_module_version": "1.5.0",
            "_view_name": "HTMLView",
            "description": "",
            "description_tooltip": null,
            "layout": "IPY_MODEL_b77e8e51ebda48b289cdf1e4b4cf81e7",
            "placeholder": "​",
            "style": "IPY_MODEL_637f15d19dc74f2fa0813f7d467e8fd2",
            "value": "Downloading: 100%"
          }
        },
        "1e7f4760d3e54536949458c22ee023f3": {
          "model_module": "@jupyter-widgets/controls",
          "model_name": "FloatProgressModel",
          "model_module_version": "1.5.0",
          "state": {
            "_dom_classes": [],
            "_model_module": "@jupyter-widgets/controls",
            "_model_module_version": "1.5.0",
            "_model_name": "FloatProgressModel",
            "_view_count": null,
            "_view_module": "@jupyter-widgets/controls",
            "_view_module_version": "1.5.0",
            "_view_name": "ProgressView",
            "bar_style": "success",
            "description": "",
            "description_tooltip": null,
            "layout": "IPY_MODEL_914a091c484a4e6ca0eb2eac8827acd3",
            "max": 1355256,
            "min": 0,
            "orientation": "horizontal",
            "style": "IPY_MODEL_2c3c073cd3fe45d6a270bf24b2159d1d",
            "value": 1355256
          }
        },
        "9d99982783aa425dbe33bf6ff6f59273": {
          "model_module": "@jupyter-widgets/controls",
          "model_name": "HTMLModel",
          "model_module_version": "1.5.0",
          "state": {
            "_dom_classes": [],
            "_model_module": "@jupyter-widgets/controls",
            "_model_module_version": "1.5.0",
            "_model_name": "HTMLModel",
            "_view_count": null,
            "_view_module": "@jupyter-widgets/controls",
            "_view_module_version": "1.5.0",
            "_view_name": "HTMLView",
            "description": "",
            "description_tooltip": null,
            "layout": "IPY_MODEL_fd3f48f6ecc24e4cbb4f5e0b7c5cf22d",
            "placeholder": "​",
            "style": "IPY_MODEL_906e564c17e04f6d96973342e0539a76",
            "value": " 1.36M/1.36M [00:00&lt;00:00, 1.54MB/s]"
          }
        },
        "433bfbbfcda84546a8210c8106ab57be": {
          "model_module": "@jupyter-widgets/base",
          "model_name": "LayoutModel",
          "model_module_version": "1.2.0",
          "state": {
            "_model_module": "@jupyter-widgets/base",
            "_model_module_version": "1.2.0",
            "_model_name": "LayoutModel",
            "_view_count": null,
            "_view_module": "@jupyter-widgets/base",
            "_view_module_version": "1.2.0",
            "_view_name": "LayoutView",
            "align_content": null,
            "align_items": null,
            "align_self": null,
            "border": null,
            "bottom": null,
            "display": null,
            "flex": null,
            "flex_flow": null,
            "grid_area": null,
            "grid_auto_columns": null,
            "grid_auto_flow": null,
            "grid_auto_rows": null,
            "grid_column": null,
            "grid_gap": null,
            "grid_row": null,
            "grid_template_areas": null,
            "grid_template_columns": null,
            "grid_template_rows": null,
            "height": null,
            "justify_content": null,
            "justify_items": null,
            "left": null,
            "margin": null,
            "max_height": null,
            "max_width": null,
            "min_height": null,
            "min_width": null,
            "object_fit": null,
            "object_position": null,
            "order": null,
            "overflow": null,
            "overflow_x": null,
            "overflow_y": null,
            "padding": null,
            "right": null,
            "top": null,
            "visibility": null,
            "width": null
          }
        },
        "b77e8e51ebda48b289cdf1e4b4cf81e7": {
          "model_module": "@jupyter-widgets/base",
          "model_name": "LayoutModel",
          "model_module_version": "1.2.0",
          "state": {
            "_model_module": "@jupyter-widgets/base",
            "_model_module_version": "1.2.0",
            "_model_name": "LayoutModel",
            "_view_count": null,
            "_view_module": "@jupyter-widgets/base",
            "_view_module_version": "1.2.0",
            "_view_name": "LayoutView",
            "align_content": null,
            "align_items": null,
            "align_self": null,
            "border": null,
            "bottom": null,
            "display": null,
            "flex": null,
            "flex_flow": null,
            "grid_area": null,
            "grid_auto_columns": null,
            "grid_auto_flow": null,
            "grid_auto_rows": null,
            "grid_column": null,
            "grid_gap": null,
            "grid_row": null,
            "grid_template_areas": null,
            "grid_template_columns": null,
            "grid_template_rows": null,
            "height": null,
            "justify_content": null,
            "justify_items": null,
            "left": null,
            "margin": null,
            "max_height": null,
            "max_width": null,
            "min_height": null,
            "min_width": null,
            "object_fit": null,
            "object_position": null,
            "order": null,
            "overflow": null,
            "overflow_x": null,
            "overflow_y": null,
            "padding": null,
            "right": null,
            "top": null,
            "visibility": null,
            "width": null
          }
        },
        "637f15d19dc74f2fa0813f7d467e8fd2": {
          "model_module": "@jupyter-widgets/controls",
          "model_name": "DescriptionStyleModel",
          "model_module_version": "1.5.0",
          "state": {
            "_model_module": "@jupyter-widgets/controls",
            "_model_module_version": "1.5.0",
            "_model_name": "DescriptionStyleModel",
            "_view_count": null,
            "_view_module": "@jupyter-widgets/base",
            "_view_module_version": "1.2.0",
            "_view_name": "StyleView",
            "description_width": ""
          }
        },
        "914a091c484a4e6ca0eb2eac8827acd3": {
          "model_module": "@jupyter-widgets/base",
          "model_name": "LayoutModel",
          "model_module_version": "1.2.0",
          "state": {
            "_model_module": "@jupyter-widgets/base",
            "_model_module_version": "1.2.0",
            "_model_name": "LayoutModel",
            "_view_count": null,
            "_view_module": "@jupyter-widgets/base",
            "_view_module_version": "1.2.0",
            "_view_name": "LayoutView",
            "align_content": null,
            "align_items": null,
            "align_self": null,
            "border": null,
            "bottom": null,
            "display": null,
            "flex": null,
            "flex_flow": null,
            "grid_area": null,
            "grid_auto_columns": null,
            "grid_auto_flow": null,
            "grid_auto_rows": null,
            "grid_column": null,
            "grid_gap": null,
            "grid_row": null,
            "grid_template_areas": null,
            "grid_template_columns": null,
            "grid_template_rows": null,
            "height": null,
            "justify_content": null,
            "justify_items": null,
            "left": null,
            "margin": null,
            "max_height": null,
            "max_width": null,
            "min_height": null,
            "min_width": null,
            "object_fit": null,
            "object_position": null,
            "order": null,
            "overflow": null,
            "overflow_x": null,
            "overflow_y": null,
            "padding": null,
            "right": null,
            "top": null,
            "visibility": null,
            "width": null
          }
        },
        "2c3c073cd3fe45d6a270bf24b2159d1d": {
          "model_module": "@jupyter-widgets/controls",
          "model_name": "ProgressStyleModel",
          "model_module_version": "1.5.0",
          "state": {
            "_model_module": "@jupyter-widgets/controls",
            "_model_module_version": "1.5.0",
            "_model_name": "ProgressStyleModel",
            "_view_count": null,
            "_view_module": "@jupyter-widgets/base",
            "_view_module_version": "1.2.0",
            "_view_name": "StyleView",
            "bar_color": null,
            "description_width": ""
          }
        },
        "fd3f48f6ecc24e4cbb4f5e0b7c5cf22d": {
          "model_module": "@jupyter-widgets/base",
          "model_name": "LayoutModel",
          "model_module_version": "1.2.0",
          "state": {
            "_model_module": "@jupyter-widgets/base",
            "_model_module_version": "1.2.0",
            "_model_name": "LayoutModel",
            "_view_count": null,
            "_view_module": "@jupyter-widgets/base",
            "_view_module_version": "1.2.0",
            "_view_name": "LayoutView",
            "align_content": null,
            "align_items": null,
            "align_self": null,
            "border": null,
            "bottom": null,
            "display": null,
            "flex": null,
            "flex_flow": null,
            "grid_area": null,
            "grid_auto_columns": null,
            "grid_auto_flow": null,
            "grid_auto_rows": null,
            "grid_column": null,
            "grid_gap": null,
            "grid_row": null,
            "grid_template_areas": null,
            "grid_template_columns": null,
            "grid_template_rows": null,
            "height": null,
            "justify_content": null,
            "justify_items": null,
            "left": null,
            "margin": null,
            "max_height": null,
            "max_width": null,
            "min_height": null,
            "min_width": null,
            "object_fit": null,
            "object_position": null,
            "order": null,
            "overflow": null,
            "overflow_x": null,
            "overflow_y": null,
            "padding": null,
            "right": null,
            "top": null,
            "visibility": null,
            "width": null
          }
        },
        "906e564c17e04f6d96973342e0539a76": {
          "model_module": "@jupyter-widgets/controls",
          "model_name": "DescriptionStyleModel",
          "model_module_version": "1.5.0",
          "state": {
            "_model_module": "@jupyter-widgets/controls",
            "_model_module_version": "1.5.0",
            "_model_name": "DescriptionStyleModel",
            "_view_count": null,
            "_view_module": "@jupyter-widgets/base",
            "_view_module_version": "1.2.0",
            "_view_name": "StyleView",
            "description_width": ""
          }
        },
        "163d70a6275e459e918788549a8e2ee7": {
          "model_module": "@jupyter-widgets/controls",
          "model_name": "HBoxModel",
          "model_module_version": "1.5.0",
          "state": {
            "_dom_classes": [],
            "_model_module": "@jupyter-widgets/controls",
            "_model_module_version": "1.5.0",
            "_model_name": "HBoxModel",
            "_view_count": null,
            "_view_module": "@jupyter-widgets/controls",
            "_view_module_version": "1.5.0",
            "_view_name": "HBoxView",
            "box_style": "",
            "children": [
              "IPY_MODEL_9ca0e6dec14140619d5a016fca884c48",
              "IPY_MODEL_cb85648ceb104c80999155ef5198e200",
              "IPY_MODEL_b0cfd01939fd4cb182a63c91a10db6f1"
            ],
            "layout": "IPY_MODEL_320603d6eef34ccc8de1c58c6497e468"
          }
        },
        "9ca0e6dec14140619d5a016fca884c48": {
          "model_module": "@jupyter-widgets/controls",
          "model_name": "HTMLModel",
          "model_module_version": "1.5.0",
          "state": {
            "_dom_classes": [],
            "_model_module": "@jupyter-widgets/controls",
            "_model_module_version": "1.5.0",
            "_model_name": "HTMLModel",
            "_view_count": null,
            "_view_module": "@jupyter-widgets/controls",
            "_view_module_version": "1.5.0",
            "_view_name": "HTMLView",
            "description": "",
            "description_tooltip": null,
            "layout": "IPY_MODEL_24a9e4ce531e4905bc74c4920edf7469",
            "placeholder": "​",
            "style": "IPY_MODEL_deb08a8c8b434480aa03f73cf2ff0d48",
            "value": "Downloading: 100%"
          }
        },
        "cb85648ceb104c80999155ef5198e200": {
          "model_module": "@jupyter-widgets/controls",
          "model_name": "FloatProgressModel",
          "model_module_version": "1.5.0",
          "state": {
            "_dom_classes": [],
            "_model_module": "@jupyter-widgets/controls",
            "_model_module_version": "1.5.0",
            "_model_name": "FloatProgressModel",
            "_view_count": null,
            "_view_module": "@jupyter-widgets/controls",
            "_view_module_version": "1.5.0",
            "_view_name": "ProgressView",
            "bar_style": "success",
            "description": "",
            "description_tooltip": null,
            "layout": "IPY_MODEL_0551d153ec544cff84dc981081d9e990",
            "max": 1520013706,
            "min": 0,
            "orientation": "horizontal",
            "style": "IPY_MODEL_6bef901d7b814409a0793727ac2c7a05",
            "value": 1520013706
          }
        },
        "b0cfd01939fd4cb182a63c91a10db6f1": {
          "model_module": "@jupyter-widgets/controls",
          "model_name": "HTMLModel",
          "model_module_version": "1.5.0",
          "state": {
            "_dom_classes": [],
            "_model_module": "@jupyter-widgets/controls",
            "_model_module_version": "1.5.0",
            "_model_name": "HTMLModel",
            "_view_count": null,
            "_view_module": "@jupyter-widgets/controls",
            "_view_module_version": "1.5.0",
            "_view_name": "HTMLView",
            "description": "",
            "description_tooltip": null,
            "layout": "IPY_MODEL_bf6ddbf80dce48a08a3fcac8767acc43",
            "placeholder": "​",
            "style": "IPY_MODEL_075e668c0ba84366b6c092991c548887",
            "value": " 1.52G/1.52G [01:03&lt;00:00, 30.6MB/s]"
          }
        },
        "320603d6eef34ccc8de1c58c6497e468": {
          "model_module": "@jupyter-widgets/base",
          "model_name": "LayoutModel",
          "model_module_version": "1.2.0",
          "state": {
            "_model_module": "@jupyter-widgets/base",
            "_model_module_version": "1.2.0",
            "_model_name": "LayoutModel",
            "_view_count": null,
            "_view_module": "@jupyter-widgets/base",
            "_view_module_version": "1.2.0",
            "_view_name": "LayoutView",
            "align_content": null,
            "align_items": null,
            "align_self": null,
            "border": null,
            "bottom": null,
            "display": null,
            "flex": null,
            "flex_flow": null,
            "grid_area": null,
            "grid_auto_columns": null,
            "grid_auto_flow": null,
            "grid_auto_rows": null,
            "grid_column": null,
            "grid_gap": null,
            "grid_row": null,
            "grid_template_areas": null,
            "grid_template_columns": null,
            "grid_template_rows": null,
            "height": null,
            "justify_content": null,
            "justify_items": null,
            "left": null,
            "margin": null,
            "max_height": null,
            "max_width": null,
            "min_height": null,
            "min_width": null,
            "object_fit": null,
            "object_position": null,
            "order": null,
            "overflow": null,
            "overflow_x": null,
            "overflow_y": null,
            "padding": null,
            "right": null,
            "top": null,
            "visibility": null,
            "width": null
          }
        },
        "24a9e4ce531e4905bc74c4920edf7469": {
          "model_module": "@jupyter-widgets/base",
          "model_name": "LayoutModel",
          "model_module_version": "1.2.0",
          "state": {
            "_model_module": "@jupyter-widgets/base",
            "_model_module_version": "1.2.0",
            "_model_name": "LayoutModel",
            "_view_count": null,
            "_view_module": "@jupyter-widgets/base",
            "_view_module_version": "1.2.0",
            "_view_name": "LayoutView",
            "align_content": null,
            "align_items": null,
            "align_self": null,
            "border": null,
            "bottom": null,
            "display": null,
            "flex": null,
            "flex_flow": null,
            "grid_area": null,
            "grid_auto_columns": null,
            "grid_auto_flow": null,
            "grid_auto_rows": null,
            "grid_column": null,
            "grid_gap": null,
            "grid_row": null,
            "grid_template_areas": null,
            "grid_template_columns": null,
            "grid_template_rows": null,
            "height": null,
            "justify_content": null,
            "justify_items": null,
            "left": null,
            "margin": null,
            "max_height": null,
            "max_width": null,
            "min_height": null,
            "min_width": null,
            "object_fit": null,
            "object_position": null,
            "order": null,
            "overflow": null,
            "overflow_x": null,
            "overflow_y": null,
            "padding": null,
            "right": null,
            "top": null,
            "visibility": null,
            "width": null
          }
        },
        "deb08a8c8b434480aa03f73cf2ff0d48": {
          "model_module": "@jupyter-widgets/controls",
          "model_name": "DescriptionStyleModel",
          "model_module_version": "1.5.0",
          "state": {
            "_model_module": "@jupyter-widgets/controls",
            "_model_module_version": "1.5.0",
            "_model_name": "DescriptionStyleModel",
            "_view_count": null,
            "_view_module": "@jupyter-widgets/base",
            "_view_module_version": "1.2.0",
            "_view_name": "StyleView",
            "description_width": ""
          }
        },
        "0551d153ec544cff84dc981081d9e990": {
          "model_module": "@jupyter-widgets/base",
          "model_name": "LayoutModel",
          "model_module_version": "1.2.0",
          "state": {
            "_model_module": "@jupyter-widgets/base",
            "_model_module_version": "1.2.0",
            "_model_name": "LayoutModel",
            "_view_count": null,
            "_view_module": "@jupyter-widgets/base",
            "_view_module_version": "1.2.0",
            "_view_name": "LayoutView",
            "align_content": null,
            "align_items": null,
            "align_self": null,
            "border": null,
            "bottom": null,
            "display": null,
            "flex": null,
            "flex_flow": null,
            "grid_area": null,
            "grid_auto_columns": null,
            "grid_auto_flow": null,
            "grid_auto_rows": null,
            "grid_column": null,
            "grid_gap": null,
            "grid_row": null,
            "grid_template_areas": null,
            "grid_template_columns": null,
            "grid_template_rows": null,
            "height": null,
            "justify_content": null,
            "justify_items": null,
            "left": null,
            "margin": null,
            "max_height": null,
            "max_width": null,
            "min_height": null,
            "min_width": null,
            "object_fit": null,
            "object_position": null,
            "order": null,
            "overflow": null,
            "overflow_x": null,
            "overflow_y": null,
            "padding": null,
            "right": null,
            "top": null,
            "visibility": null,
            "width": null
          }
        },
        "6bef901d7b814409a0793727ac2c7a05": {
          "model_module": "@jupyter-widgets/controls",
          "model_name": "ProgressStyleModel",
          "model_module_version": "1.5.0",
          "state": {
            "_model_module": "@jupyter-widgets/controls",
            "_model_module_version": "1.5.0",
            "_model_name": "ProgressStyleModel",
            "_view_count": null,
            "_view_module": "@jupyter-widgets/base",
            "_view_module_version": "1.2.0",
            "_view_name": "StyleView",
            "bar_color": null,
            "description_width": ""
          }
        },
        "bf6ddbf80dce48a08a3fcac8767acc43": {
          "model_module": "@jupyter-widgets/base",
          "model_name": "LayoutModel",
          "model_module_version": "1.2.0",
          "state": {
            "_model_module": "@jupyter-widgets/base",
            "_model_module_version": "1.2.0",
            "_model_name": "LayoutModel",
            "_view_count": null,
            "_view_module": "@jupyter-widgets/base",
            "_view_module_version": "1.2.0",
            "_view_name": "LayoutView",
            "align_content": null,
            "align_items": null,
            "align_self": null,
            "border": null,
            "bottom": null,
            "display": null,
            "flex": null,
            "flex_flow": null,
            "grid_area": null,
            "grid_auto_columns": null,
            "grid_auto_flow": null,
            "grid_auto_rows": null,
            "grid_column": null,
            "grid_gap": null,
            "grid_row": null,
            "grid_template_areas": null,
            "grid_template_columns": null,
            "grid_template_rows": null,
            "height": null,
            "justify_content": null,
            "justify_items": null,
            "left": null,
            "margin": null,
            "max_height": null,
            "max_width": null,
            "min_height": null,
            "min_width": null,
            "object_fit": null,
            "object_position": null,
            "order": null,
            "overflow": null,
            "overflow_x": null,
            "overflow_y": null,
            "padding": null,
            "right": null,
            "top": null,
            "visibility": null,
            "width": null
          }
        },
        "075e668c0ba84366b6c092991c548887": {
          "model_module": "@jupyter-widgets/controls",
          "model_name": "DescriptionStyleModel",
          "model_module_version": "1.5.0",
          "state": {
            "_model_module": "@jupyter-widgets/controls",
            "_model_module_version": "1.5.0",
            "_model_name": "DescriptionStyleModel",
            "_view_count": null,
            "_view_module": "@jupyter-widgets/base",
            "_view_module_version": "1.2.0",
            "_view_name": "StyleView",
            "description_width": ""
          }
        }
      }
    }
  },
  "nbformat": 4,
  "nbformat_minor": 0
}